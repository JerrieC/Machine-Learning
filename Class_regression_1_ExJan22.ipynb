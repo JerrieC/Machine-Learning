{
 "cells": [
  {
   "cell_type": "markdown",
   "metadata": {},
   "source": [
    "# Exercise: Linear Regression\n",
    "\n",
    "A) Use the advertising dataset, and fit a linear regression model that estimates the Sales from the TV advertising only (single feature). \n",
    "Find the P-value of the TV feature and the 95% confidence interval of the corresponding coefficients.\n",
    "Does the confidence interval include the value of Zero? What does that imply?"
   ]
  },
  {
   "cell_type": "code",
   "execution_count": 5,
   "metadata": {},
   "outputs": [
    {
     "name": "stdout",
     "output_type": "stream",
     "text": [
      "==============================================================================\n",
      "                 coef    std err          t      P>|t|      [0.025      0.975]\n",
      "------------------------------------------------------------------------------\n",
      "Intercept      7.0326      0.458     15.360      0.000       6.130       7.935\n",
      "TV             0.0475      0.003     17.668      0.000       0.042       0.053\n",
      "==============================================================================\n",
      "p-values are:\n",
      " Intercept    1.406300e-35\n",
      "TV           1.467390e-42\n",
      "dtype: float64\n",
      "==============================================================================\n",
      "                 coef    std err          t      P>|t|      [0.025      0.975]\n",
      "------------------------------------------------------------------------------\n",
      "Intercept      9.3116      0.563     16.542      0.000       8.202      10.422\n",
      "Radio          0.2025      0.020      9.921      0.000       0.162       0.243\n",
      "==============================================================================\n",
      "p-values are:\n",
      " Intercept    3.561071e-39\n",
      "Radio        4.354966e-19\n",
      "dtype: float64\n",
      "==============================================================================\n",
      "                 coef    std err          t      P>|t|      [0.025      0.975]\n",
      "------------------------------------------------------------------------------\n",
      "Intercept      6.7502      0.248     27.233      0.000       6.261       7.239\n",
      "Radio          0.0289      0.009      3.241      0.001       0.011       0.046\n",
      "TV             0.0191      0.002     12.699      0.000       0.016       0.022\n",
      "Radio:TV       0.0011   5.24e-05     20.727      0.000       0.001       0.001\n",
      "==============================================================================\n",
      "p-values are:\n",
      " Intercept    3.561071e-39\n",
      "Radio        4.354966e-19\n",
      "dtype: float64\n"
     ]
    }
   ],
   "source": [
    "from pandas import read_csv\n",
    "import statsmodels.formula.api as smf\n",
    "AdvertisingData=read_csv('Advertising.csv')\n",
    "\n",
    "# A)\n",
    "import statsmodels.formula.api as smf\n",
    "model=smf.ols('Sales ~ TV', AdvertisingData) \n",
    "Fitting_results=model.fit() \n",
    "print(Fitting_results.summary().tables[1])\n",
    "print('p-values are:\\n',Fitting_results.pvalues)\n",
    "\n",
    "model2=smf.ols('Sales ~ Radio', AdvertisingData) \n",
    "Fitting_results2=model2.fit() \n",
    "print(Fitting_results2.summary().tables[1])\n",
    "print('p-values are:\\n',Fitting_results2.pvalues)\n",
    "\n",
    "model3=smf.ols('Sales ~ Radio+TV+Radio*TV', AdvertisingData) \n",
    "Fitting_results3=model3.fit() \n",
    "print(Fitting_results3.summary().tables[1])\n",
    "print('p-values are:\\n',Fitting_results2.pvalues)\n",
    "\n",
    "# not include the value of zero\n",
    "# 95% of the interval cover the true coefficient. \n",
    "# We have the confidence that there has 95% possibility that "
   ]
  },
  {
   "cell_type": "markdown",
   "metadata": {},
   "source": [
    "B) Use the same 'Advertising' data set, and fit linear regression model that predicts Sales from TV, Radio, and Newspaper advertising using Sklearn linear_model module. What is the coefficients of the three features, and what is the MSE of the fitted model. Use random_state = 0 in train_test_split\n",
    "\n",
    "\n",
    "C) Repeat B when TV and Radio are used, but newspaper is not used in the model. What is the MSE in this case. "
   ]
  },
  {
   "cell_type": "code",
   "execution_count": 54,
   "metadata": {
    "scrolled": true
   },
   "outputs": [
    {
     "name": "stdout",
     "output_type": "stream",
     "text": [
      "The intercept is:  2.89257005115\n",
      "The coefficients of Radio, TV and Newspaper are: [ 0.19900368  0.04416235  0.00116268]\n",
      "mean square error 4.01249752292\n"
     ]
    }
   ],
   "source": [
    "%matplotlib inline\n",
    "import matplotlib.pyplot as plt\n",
    "import numpy as np\n",
    "from sklearn.model_selection import train_test_split\n",
    "from sklearn.linear_model import LinearRegression\n",
    "from sklearn.metrics import mean_squared_error\n",
    "\n",
    "# B)\n",
    "AdvertisingData=read_csv('Advertising.csv')\n",
    "X = AdvertisingData[['Radio', 'TV','Newspaper']].values\n",
    "Y = AdvertisingData.Sales\n",
    "X_train, X_test, Y_train, Y_test= train_test_split(X, Y, random_state= 0)\n",
    "linreg= LinearRegression().fit(X_train, Y_train)\n",
    "\n",
    "print(\"The intercept is: \", linreg.intercept_) \n",
    "print(\"The coefficients of Radio, TV and Newspaper are:\",linreg.coef_)\n",
    "\n",
    "from sklearn.metrics import mean_squared_error\n",
    "Target_predicted= linreg.predict(X_test) \n",
    "MSE=mean_squared_error(Y_test,Target_predicted) \n",
    "print('mean square error', MSE)"
   ]
  },
  {
   "cell_type": "code",
   "execution_count": 56,
   "metadata": {},
   "outputs": [
    {
     "name": "stdout",
     "output_type": "stream",
     "text": [
      "The intercept is:  2.9109237322\n",
      "The coefficients of Radio and TV are: [ 0.19946953  0.04419729]\n",
      "mean square error 3.99985266758\n"
     ]
    }
   ],
   "source": [
    "# C)\n",
    "X = AdvertisingData[['Radio', 'TV']].values\n",
    "Y = AdvertisingData.Sales\n",
    "X_train, X_test, Y_train, Y_test= train_test_split(X, Y, random_state= 0)\n",
    "linreg= LinearRegression().fit(X_train, Y_train)\n",
    "\n",
    "print(\"The intercept is: \", linreg.intercept_) \n",
    "print(\"The coefficients of Radio and TV are:\",linreg.coef_)\n",
    "\n",
    "Target_predicted= linreg.predict(X_test) \n",
    "MSE=mean_squared_error(Y_test,Target_predicted) \n",
    "print('mean square error', MSE)"
   ]
  },
  {
   "cell_type": "code",
   "execution_count": null,
   "metadata": {
    "collapsed": true
   },
   "outputs": [],
   "source": []
  }
 ],
 "metadata": {
  "kernelspec": {
   "display_name": "Python 3",
   "language": "python",
   "name": "python3"
  },
  "language_info": {
   "codemirror_mode": {
    "name": "ipython",
    "version": 3
   },
   "file_extension": ".py",
   "mimetype": "text/x-python",
   "name": "python",
   "nbconvert_exporter": "python",
   "pygments_lexer": "ipython3",
   "version": "3.6.3"
  }
 },
 "nbformat": 4,
 "nbformat_minor": 2
}
