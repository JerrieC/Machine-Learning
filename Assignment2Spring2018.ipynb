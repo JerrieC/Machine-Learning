{
 "cells": [
  {
   "cell_type": "markdown",
   "metadata": {},
   "source": [
    "<div style=\"text-align: center;\">\n",
    "<h2>INFSCI 2915 Foundations- Machine Learning - Spring 2018 </h2>\n",
    "<h1 style=\"font-size: 250%;\">Assignment #2</h1>\n",
    "<h3>Issued Monday, 2/26/2018; Due Monday, 11:59pm, 3/12/2018</h3>\n",
    "<h3>Total points: 100 </h3>\n",
    "</div>"
   ]
  },
  {
   "cell_type": "code",
   "execution_count": 99,
   "metadata": {
    "collapsed": true
   },
   "outputs": [],
   "source": [
    "# Type in your information in the double quotes\n",
    "firstName = \"Jiayu\"\n",
    "lastName = \"Chen\"\n",
    "pittID = \"pic117\""
   ]
  },
  {
   "cell_type": "markdown",
   "metadata": {},
   "source": [
    "<h3>  Problem #1. Train Test Split [20 points]</h3> \n",
    "In this part, you should download **\"Iris dataset\"**. <br>\n",
    "Use a code below to download the  dataset: "
   ]
  },
  {
   "cell_type": "code",
   "execution_count": 5,
   "metadata": {},
   "outputs": [
    {
     "name": "stdout",
     "output_type": "stream",
     "text": [
      "dict_keys(['data', 'target', 'target_names', 'DESCR', 'feature_names'])\n"
     ]
    }
   ],
   "source": [
    "from sklearn.datasets import load_iris\n",
    "import numpy as np\n",
    "import pandas as pd\n",
    "import matplotlib.pyplot as plt\n",
    "import matplotlib.pyplot as plt\n",
    "from sklearn.model_selection import train_test_split\n",
    "\n",
    "dataset=load_iris()\n",
    "print(dataset.keys()) "
   ]
  },
  {
   "cell_type": "markdown",
   "metadata": {},
   "source": [
    "<h4> Problem #1-1. </h4> Split iris dataset into training and test datasets. (use train_test_split function and random_state=0)\n",
    "\n",
    "- Report the shape of each (training and test) datasets. What is the proportion of each set? "
   ]
  },
  {
   "cell_type": "code",
   "execution_count": 6,
   "metadata": {},
   "outputs": [
    {
     "name": "stdout",
     "output_type": "stream",
     "text": [
      "The shape of X_train is (112, 4)\n",
      "The shape of X_test is (38, 4)\n",
      "The shape of Y_train is (112,)\n",
      "The shape of Y_test is (38,)\n",
      "The proportion of train set is 0.7466666666666667\n",
      "The proportion of test set is 0.25333333333333335\n"
     ]
    }
   ],
   "source": [
    "features=dataset.data\n",
    "target=dataset.target\n",
    "X_train, X_test, Y_train, Y_test= train_test_split(features, target, random_state= 0)\n",
    "print('The shape of X_train is', X_train.shape)\n",
    "print('The shape of X_test is', X_test.shape)\n",
    "print('The shape of Y_train is', Y_train.shape)\n",
    "print('The shape of Y_test is', Y_test.shape)\n",
    "\n",
    "proTrain=X_train.shape[0]/(X_train.shape[0]+X_test.shape[0])\n",
    "proTest=X_test.shape[0]/(X_train.shape[0]+X_test.shape[0])\n",
    "print('The proportion of train set is', proTrain)\n",
    "print('The proportion of test set is', proTest)"
   ]
  },
  {
   "cell_type": "markdown",
   "metadata": {},
   "source": [
    "<h4> Problem #1-2. </h4>  Split iris dataset into training and test datasets. Make the proportion of training dataset 60% (use train_test_split function and random_state=0)\n",
    " \n",
    "\n",
    "- Report the shape of each (training and test) datasets."
   ]
  },
  {
   "cell_type": "code",
   "execution_count": 7,
   "metadata": {},
   "outputs": [
    {
     "name": "stdout",
     "output_type": "stream",
     "text": [
      "The shape of X_train is (90, 4)\n",
      "The shape of X_test is (60, 4)\n",
      "The shape of Y_train is (90,)\n",
      "The shape of Y_test is (60,)\n"
     ]
    }
   ],
   "source": [
    "X_train, X_test, Y_train, Y_test= train_test_split(features, target, random_state= 0, test_size=0.4)\n",
    "print('The shape of X_train is', X_train.shape)\n",
    "print('The shape of X_test is', X_test.shape)\n",
    "print('The shape of Y_train is', Y_train.shape)\n",
    "print('The shape of Y_test is', Y_test.shape)"
   ]
  },
  {
   "cell_type": "markdown",
   "metadata": {},
   "source": [
    "<h4> Problem #1-3. </h4>  Split iris dataset into training and test datasets. Make the proportion of test dataset 33.3% (use train_test_split function and random_state=0)\n",
    "  \n",
    "\n",
    "- Report the shape of each (training and test) dataset."
   ]
  },
  {
   "cell_type": "code",
   "execution_count": 8,
   "metadata": {},
   "outputs": [
    {
     "name": "stdout",
     "output_type": "stream",
     "text": [
      "The shape of X_train is (100, 4)\n",
      "The shape of X_test is (50, 4)\n",
      "The shape of Y_train is (100,)\n",
      "The shape of Y_test is (50,)\n"
     ]
    }
   ],
   "source": [
    "X_train, X_test, Y_train, Y_test= train_test_split(features, target, random_state= 0, test_size=0.333)\n",
    "print('The shape of X_train is', X_train.shape)\n",
    "print('The shape of X_test is', X_test.shape)\n",
    "print('The shape of Y_train is', Y_train.shape)\n",
    "print('The shape of Y_test is', Y_test.shape)"
   ]
  },
  {
   "cell_type": "markdown",
   "metadata": {},
   "source": [
    "<h4> Problem #1-4. Random State </h4> \n",
    "Split iris dataset into training and test datasets, Use different Random State values (0,  10, 253, 1000, 0 and 10) \n",
    "\n",
    "- Analyze the shape and values of the train and test datasets  generated from different Random State values (you can use descriptive statistics) \n",
    "\n",
    "- What happens if you do not specify Random State? \n",
    "\n",
    "- What is a purpose of using Random State? "
   ]
  },
  {
   "cell_type": "code",
   "execution_count": 9,
   "metadata": {
    "collapsed": true
   },
   "outputs": [],
   "source": [
    "ran_state=[0, 10, 253, 1000, 0, 10]\n",
    "train_shape=[]\n",
    "test_shape=[]\n",
    "train_mean=np.empty([0, 5])\n",
    "def split(random):\n",
    "    X_train, X_test, Y_train, Y_test= train_test_split(features, target, random_state=random)\n",
    "    train=np.column_stack((X_train,Y_train))\n",
    "    test=np.column_stack((X_test,Y_test))\n",
    "    train_shape.append(train.shape[0])\n",
    "    test_shape.append(test.shape[0])\n",
    "    train_df =  pd.DataFrame(data=train, columns = dataset.feature_names+['target'])\n",
    "    test_df= pd.DataFrame(data=test, columns = dataset.feature_names+['target'])\n",
    "    global train_mean\n",
    "    train_mean = np.append(train_mean, train_df.mean().values.reshape(1,-1), axis=0)"
   ]
  },
  {
   "cell_type": "code",
   "execution_count": 10,
   "metadata": {
    "scrolled": true
   },
   "outputs": [
    {
     "data": {
      "image/png": "[encoded data removed]",
      "text/plain": [
       "<matplotlib.figure.Figure at 0x1a18537208>"
      ]
     },
     "metadata": {},
     "output_type": "display_data"
    }
   ],
   "source": [
    "for i in range(len(ran_state)):\n",
    "    split(ran_state[i])\n",
    "    \n",
    "plt.plot(train_mean)\n",
    "plt.show()"
   ]
  },
  {
   "cell_type": "markdown",
   "metadata": {},
   "source": [
    "The values of the train and test datasets generated from different Random State values are different with almost same mean values. "
   ]
  },
  {
   "cell_type": "code",
   "execution_count": 11,
   "metadata": {},
   "outputs": [
    {
     "data": {
      "image/png": "[encoded data removed]",
      "text/plain": [
       "<matplotlib.figure.Figure at 0x1a20a666a0>"
      ]
     },
     "metadata": {},
     "output_type": "display_data"
    }
   ],
   "source": [
    "plt.plot(train_shape)\n",
    "plt.plot(test_shape)\n",
    "plt.show()"
   ]
  },
  {
   "cell_type": "markdown",
   "metadata": {},
   "source": [
    "The shape of the train and test datasets generated from different Random State values are the same.<br>\n",
    "The purpose of using Random State is to guarantee the output is same if using same random_state. This is useful if you want reproducible results. "
   ]
  },
  {
   "cell_type": "markdown",
   "metadata": {},
   "source": [
    "<h4> Problem #1-5. Optional (Extra Points) </h4> \n",
    "\n",
    "\n",
    "Write a python function that takes the dataset X  (matrix) and Y (numpy array) as an input and returns two non-overlapping datasets: the training and testing data, such that every entry to training set should be selected randomly. The proportion of the training and testing data should be 75%(training)/25%(test). Test your function using the synthetic dataset below. "
   ]
  },
  {
   "cell_type": "code",
   "execution_count": 12,
   "metadata": {},
   "outputs": [
    {
     "data": {
      "text/html": [
       "<div>\n",
       "<style>\n",
       "    .dataframe thead tr:only-child th {\n",
       "        text-align: right;\n",
       "    }\n",
       "\n",
       "    .dataframe thead th {\n",
       "        text-align: left;\n",
       "    }\n",
       "\n",
       "    .dataframe tbody tr th {\n",
       "        vertical-align: top;\n",
       "    }\n",
       "</style>\n",
       "<table border=\"1\" class=\"dataframe\">\n",
       "  <thead>\n",
       "    <tr style=\"text-align: right;\">\n",
       "      <th></th>\n",
       "      <th>X1</th>\n",
       "      <th>X2</th>\n",
       "      <th>X3</th>\n",
       "      <th>X4</th>\n",
       "      <th>Y</th>\n",
       "    </tr>\n",
       "  </thead>\n",
       "  <tbody>\n",
       "    <tr>\n",
       "      <th>0</th>\n",
       "      <td>0</td>\n",
       "      <td>0</td>\n",
       "      <td>0</td>\n",
       "      <td>0</td>\n",
       "      <td>1</td>\n",
       "    </tr>\n",
       "    <tr>\n",
       "      <th>1</th>\n",
       "      <td>1</td>\n",
       "      <td>10</td>\n",
       "      <td>100</td>\n",
       "      <td>1000</td>\n",
       "      <td>1</td>\n",
       "    </tr>\n",
       "    <tr>\n",
       "      <th>2</th>\n",
       "      <td>2</td>\n",
       "      <td>20</td>\n",
       "      <td>200</td>\n",
       "      <td>2000</td>\n",
       "      <td>0</td>\n",
       "    </tr>\n",
       "    <tr>\n",
       "      <th>3</th>\n",
       "      <td>3</td>\n",
       "      <td>30</td>\n",
       "      <td>300</td>\n",
       "      <td>3000</td>\n",
       "      <td>1</td>\n",
       "    </tr>\n",
       "    <tr>\n",
       "      <th>4</th>\n",
       "      <td>4</td>\n",
       "      <td>40</td>\n",
       "      <td>400</td>\n",
       "      <td>4000</td>\n",
       "      <td>1</td>\n",
       "    </tr>\n",
       "    <tr>\n",
       "      <th>5</th>\n",
       "      <td>5</td>\n",
       "      <td>50</td>\n",
       "      <td>500</td>\n",
       "      <td>5000</td>\n",
       "      <td>1</td>\n",
       "    </tr>\n",
       "    <tr>\n",
       "      <th>6</th>\n",
       "      <td>6</td>\n",
       "      <td>60</td>\n",
       "      <td>600</td>\n",
       "      <td>6000</td>\n",
       "      <td>0</td>\n",
       "    </tr>\n",
       "    <tr>\n",
       "      <th>7</th>\n",
       "      <td>7</td>\n",
       "      <td>70</td>\n",
       "      <td>700</td>\n",
       "      <td>7000</td>\n",
       "      <td>0</td>\n",
       "    </tr>\n",
       "    <tr>\n",
       "      <th>8</th>\n",
       "      <td>8</td>\n",
       "      <td>80</td>\n",
       "      <td>800</td>\n",
       "      <td>8000</td>\n",
       "      <td>1</td>\n",
       "    </tr>\n",
       "    <tr>\n",
       "      <th>9</th>\n",
       "      <td>9</td>\n",
       "      <td>90</td>\n",
       "      <td>900</td>\n",
       "      <td>9000</td>\n",
       "      <td>0</td>\n",
       "    </tr>\n",
       "  </tbody>\n",
       "</table>\n",
       "</div>"
      ],
      "text/plain": [
       "   X1  X2   X3    X4  Y\n",
       "0   0   0    0     0  1\n",
       "1   1  10  100  1000  1\n",
       "2   2  20  200  2000  0\n",
       "3   3  30  300  3000  1\n",
       "4   4  40  400  4000  1\n",
       "5   5  50  500  5000  1\n",
       "6   6  60  600  6000  0\n",
       "7   7  70  700  7000  0\n",
       "8   8  80  800  8000  1\n",
       "9   9  90  900  9000  0"
      ]
     },
     "execution_count": 12,
     "metadata": {},
     "output_type": "execute_result"
    }
   ],
   "source": [
    "import numpy as np \n",
    "import pandas as pd\n",
    "X = np.stack((np.arange(100), 10*np.array(np.arange(100)),100*np.array(np.arange(100)),1000*np.array(np.arange(100))), axis=-1)\n",
    "Y = np.random.randint(2, size=100)\n",
    "df = pd.DataFrame(np.concatenate((X,Y[:,None]),axis=1), columns = (\"X1\",\"X2\",\"X3\",\"X4\", \"Y\"))\n",
    "df.head(10)"
   ]
  },
  {
   "cell_type": "code",
   "execution_count": 13,
   "metadata": {},
   "outputs": [
    {
     "name": "stdout",
     "output_type": "stream",
     "text": [
      "The random_state is: 92\n",
      "The shape of X_train is: (75, 4)\n",
      "The shape of X_test is: (25, 4)\n",
      "The random_state is: 54\n",
      "The shape of X_train is: (75, 4)\n",
      "The shape of X_test is: (25, 4)\n"
     ]
    }
   ],
   "source": [
    "#Write your narrative answer here\n",
    "def rand_split(X,Y):\n",
    "    randnum=np.random.randint(100)\n",
    "    print('The random_state is:', randnum)\n",
    "    X_train, X_test, Y_train, Y_test= train_test_split(X, Y, random_state=randnum)\n",
    "    print('The shape of X_train is:',X_train.shape)\n",
    "    print('The shape of X_test is:',X_test.shape)\n",
    "    \n",
    "rand_split(X,Y)\n",
    "rand_split(X,Y)"
   ]
  },
  {
   "cell_type": "markdown",
   "metadata": {},
   "source": [
    "<h3> Problem #2. Feature Selection  [10 points] </h3>  <br>\n",
    "In this part, you should download **\"Iris dataset\"**. <br>\n",
    "(use code from problem 1 to download dataset)\n",
    "\n",
    "- Find the best two features using forward and backward selection to the Iris dataset, use a logistic regression model to find a best subset of features.\n",
    "- Comment your choice "
   ]
  },
  {
   "cell_type": "markdown",
   "metadata": {},
   "source": [
    "## forward selection"
   ]
  },
  {
   "cell_type": "code",
   "execution_count": 14,
   "metadata": {
    "collapsed": true
   },
   "outputs": [],
   "source": [
    "from sklearn.datasets import load_boston\n",
    "dataset = load_boston()\n",
    "whole_df=pd.DataFrame(data=dataset.data, columns=dataset.feature_names)\n",
    "whole_df['MEDV']=dataset.target\n",
    "features=['CHAS','RM','TAX', 'LSTAT','MEDV']\n",
    "df=whole_df[features] "
   ]
  },
  {
   "cell_type": "code",
   "execution_count": 84,
   "metadata": {},
   "outputs": [
    {
     "name": "stdout",
     "output_type": "stream",
     "text": [
      "The feature with lowest RSS is: RM\n"
     ]
    }
   ],
   "source": [
    "dataset = load_boston()\n",
    "from sklearn.metrics import mean_squared_error\n",
    "\n",
    "dataset = load_boston()\n",
    "feature_names=['CHAS', 'RM', 'TAX', 'LSTAT']\n",
    "def forward_selection(feature_name):\n",
    "    new_data= pd.DataFrame(dataset.data, columns=dataset.feature_names)[[feature_name]]\n",
    "    X_train,X_test,Y_train,Y_test=train_test_split(new_data.values,dataset.target,random_state=0)\n",
    "    linreg= LinearRegression().fit(X_train, Y_train)\n",
    "    Target_predicted= linreg.predict(X_test)\n",
    "    MSE=mean_squared_error(Y_test,Target_predicted)\n",
    "    return MSE\n",
    "\n",
    "min_mse=100\n",
    "feature_name=''\n",
    "for i in feature_names:\n",
    "    MSE = forward_selection(i)\n",
    "    if MSE < min_mse:\n",
    "        min_mse=MSE\n",
    "        feature_name=i\n",
    "print('The feature with lowest RSS is:', feature_name)"
   ]
  },
  {
   "cell_type": "code",
   "execution_count": 83,
   "metadata": {},
   "outputs": [
    {
     "name": "stdout",
     "output_type": "stream",
     "text": [
      "The mean square error of RM and CHAS is 41.7332338573\n",
      "The mean square error of RM and TAX is 46.143285854\n",
      "The mean square error of RM and LSTAT is 35.1922968472\n",
      "\n",
      "The best two features of forward selection is RM and CHAS\n"
     ]
    }
   ],
   "source": [
    "sec_feature_names=['CHAS', 'TAX', 'LSTAT']\n",
    "\n",
    "def step_selection(feature_name, sec_feature_name):\n",
    "    new_data= pd.DataFrame(dataset.data, columns=dataset.feature_names)[[feature_name, sec_feature_name]]\n",
    "    X_train,X_test,Y_train,Y_test=train_test_split(new_data.values,dataset.target,random_state=0)\n",
    "    linreg= LinearRegression().fit(X_train, Y_train)\n",
    "    Target_predicted= linreg.predict(X_test)\n",
    "    MSE=mean_squared_error(Y_test,Target_predicted)\n",
    "    print('The mean square error of', feature_name, 'and', sec_feature_name,'is', MSE)\n",
    "\n",
    "sec_min_mse=100\n",
    "sec_feature_name=''\n",
    "for i in sec_feature_names:\n",
    "    sec_MSE = step_selection(feature_name, i)\n",
    "    if MSE < sec_min_mse:\n",
    "        sec_min_mse=MSE\n",
    "        sec_feature_name=i\n",
    "        \n",
    "print('\\nThe best two features of forward selection is', feature_name, 'and', sec_feature_name)"
   ]
  },
  {
   "cell_type": "markdown",
   "metadata": {},
   "source": [
    "## backward selection"
   ]
  },
  {
   "cell_type": "code",
   "execution_count": null,
   "metadata": {},
   "outputs": [],
   "source": [
    "def backward(data):\n",
    "    for i in range(1,13):\n",
    "        Fitting_results=sm.OLS(target, data).fit()\n",
    "        df1=pd.DataFrame(Fitting_results.pvalues)\n",
    "        delete=(df1 == df1.max()).idxmax(axis=0)[0]\n",
    "        data=data.drop(delete, axis=1)\n",
    "        i=i+1\n",
    "    print('The best two features using backward selection are:',df1.index)\n",
    "backward(data)"
   ]
  },
  {
   "cell_type": "markdown",
   "metadata": {},
   "source": [
    "<h3>  Problem #3. Qualitative Variables  [10 points] </h3>\n",
    "\n",
    "In this part, you should download and analyze **\"Boston House Prices\"** dataset. <br>\n",
    "Use a code below to download the  dataset: "
   ]
  },
  {
   "cell_type": "code",
   "execution_count": 17,
   "metadata": {},
   "outputs": [
    {
     "name": "stdout",
     "output_type": "stream",
     "text": [
      "dict_keys(['data', 'target', 'feature_names', 'DESCR'])\n"
     ]
    }
   ],
   "source": [
    "from sklearn.datasets import load_boston\n",
    "dataset = load_boston()\n",
    "print(dataset.keys())"
   ]
  },
  {
   "cell_type": "markdown",
   "metadata": {},
   "source": [
    "<h4> Problem #3-1. </h4> Follow steps to answer questions.\n",
    "> *Use train_test_split() with the option \"random_state=0\".\n",
    "\n",
    "- Identify qualitative feature in the dataset (a feature with dummy variable). What is an abbreviation for the qualitative feature? (What is a definition of that  abbreviation ?)\n",
    "\n",
    "- Fit a linear regression model with qualitative variable feature only. Report intercept and coefficient.  \n",
    "\n",
    "- What can you infer about the qualitative feature from the coefficient? (Hint check lecture:  \"Regression with Qualitative Features\")"
   ]
  },
  {
   "cell_type": "code",
   "execution_count": 18,
   "metadata": {},
   "outputs": [
    {
     "data": {
      "text/html": [
       "<div>\n",
       "<style>\n",
       "    .dataframe thead tr:only-child th {\n",
       "        text-align: right;\n",
       "    }\n",
       "\n",
       "    .dataframe thead th {\n",
       "        text-align: left;\n",
       "    }\n",
       "\n",
       "    .dataframe tbody tr th {\n",
       "        vertical-align: top;\n",
       "    }\n",
       "</style>\n",
       "<table border=\"1\" class=\"dataframe\">\n",
       "  <thead>\n",
       "    <tr style=\"text-align: right;\">\n",
       "      <th></th>\n",
       "      <th>CRIM</th>\n",
       "      <th>ZN</th>\n",
       "      <th>INDUS</th>\n",
       "      <th>CHAS</th>\n",
       "      <th>NOX</th>\n",
       "      <th>RM</th>\n",
       "      <th>AGE</th>\n",
       "      <th>DIS</th>\n",
       "      <th>RAD</th>\n",
       "      <th>TAX</th>\n",
       "      <th>PTRATIO</th>\n",
       "      <th>B</th>\n",
       "      <th>LSTAT</th>\n",
       "      <th>MEDV</th>\n",
       "    </tr>\n",
       "  </thead>\n",
       "  <tbody>\n",
       "    <tr>\n",
       "      <th>count</th>\n",
       "      <td>506.000000</td>\n",
       "      <td>506.000000</td>\n",
       "      <td>506.000000</td>\n",
       "      <td>506.000000</td>\n",
       "      <td>506.000000</td>\n",
       "      <td>506.000000</td>\n",
       "      <td>506.000000</td>\n",
       "      <td>506.000000</td>\n",
       "      <td>506.000000</td>\n",
       "      <td>506.000000</td>\n",
       "      <td>506.000000</td>\n",
       "      <td>506.000000</td>\n",
       "      <td>506.000000</td>\n",
       "      <td>506.000000</td>\n",
       "    </tr>\n",
       "    <tr>\n",
       "      <th>mean</th>\n",
       "      <td>3.593761</td>\n",
       "      <td>11.363636</td>\n",
       "      <td>11.136779</td>\n",
       "      <td>0.069170</td>\n",
       "      <td>0.554695</td>\n",
       "      <td>6.284634</td>\n",
       "      <td>68.574901</td>\n",
       "      <td>3.795043</td>\n",
       "      <td>9.549407</td>\n",
       "      <td>408.237154</td>\n",
       "      <td>18.455534</td>\n",
       "      <td>356.674032</td>\n",
       "      <td>12.653063</td>\n",
       "      <td>22.532806</td>\n",
       "    </tr>\n",
       "    <tr>\n",
       "      <th>std</th>\n",
       "      <td>8.596783</td>\n",
       "      <td>23.322453</td>\n",
       "      <td>6.860353</td>\n",
       "      <td>0.253994</td>\n",
       "      <td>0.115878</td>\n",
       "      <td>0.702617</td>\n",
       "      <td>28.148861</td>\n",
       "      <td>2.105710</td>\n",
       "      <td>8.707259</td>\n",
       "      <td>168.537116</td>\n",
       "      <td>2.164946</td>\n",
       "      <td>91.294864</td>\n",
       "      <td>7.141062</td>\n",
       "      <td>9.197104</td>\n",
       "    </tr>\n",
       "    <tr>\n",
       "      <th>min</th>\n",
       "      <td>0.006320</td>\n",
       "      <td>0.000000</td>\n",
       "      <td>0.460000</td>\n",
       "      <td>0.000000</td>\n",
       "      <td>0.385000</td>\n",
       "      <td>3.561000</td>\n",
       "      <td>2.900000</td>\n",
       "      <td>1.129600</td>\n",
       "      <td>1.000000</td>\n",
       "      <td>187.000000</td>\n",
       "      <td>12.600000</td>\n",
       "      <td>0.320000</td>\n",
       "      <td>1.730000</td>\n",
       "      <td>5.000000</td>\n",
       "    </tr>\n",
       "    <tr>\n",
       "      <th>25%</th>\n",
       "      <td>0.082045</td>\n",
       "      <td>0.000000</td>\n",
       "      <td>5.190000</td>\n",
       "      <td>0.000000</td>\n",
       "      <td>0.449000</td>\n",
       "      <td>5.885500</td>\n",
       "      <td>45.025000</td>\n",
       "      <td>2.100175</td>\n",
       "      <td>4.000000</td>\n",
       "      <td>279.000000</td>\n",
       "      <td>17.400000</td>\n",
       "      <td>375.377500</td>\n",
       "      <td>6.950000</td>\n",
       "      <td>17.025000</td>\n",
       "    </tr>\n",
       "    <tr>\n",
       "      <th>50%</th>\n",
       "      <td>0.256510</td>\n",
       "      <td>0.000000</td>\n",
       "      <td>9.690000</td>\n",
       "      <td>0.000000</td>\n",
       "      <td>0.538000</td>\n",
       "      <td>6.208500</td>\n",
       "      <td>77.500000</td>\n",
       "      <td>3.207450</td>\n",
       "      <td>5.000000</td>\n",
       "      <td>330.000000</td>\n",
       "      <td>19.050000</td>\n",
       "      <td>391.440000</td>\n",
       "      <td>11.360000</td>\n",
       "      <td>21.200000</td>\n",
       "    </tr>\n",
       "    <tr>\n",
       "      <th>75%</th>\n",
       "      <td>3.647423</td>\n",
       "      <td>12.500000</td>\n",
       "      <td>18.100000</td>\n",
       "      <td>0.000000</td>\n",
       "      <td>0.624000</td>\n",
       "      <td>6.623500</td>\n",
       "      <td>94.075000</td>\n",
       "      <td>5.188425</td>\n",
       "      <td>24.000000</td>\n",
       "      <td>666.000000</td>\n",
       "      <td>20.200000</td>\n",
       "      <td>396.225000</td>\n",
       "      <td>16.955000</td>\n",
       "      <td>25.000000</td>\n",
       "    </tr>\n",
       "    <tr>\n",
       "      <th>max</th>\n",
       "      <td>88.976200</td>\n",
       "      <td>100.000000</td>\n",
       "      <td>27.740000</td>\n",
       "      <td>1.000000</td>\n",
       "      <td>0.871000</td>\n",
       "      <td>8.780000</td>\n",
       "      <td>100.000000</td>\n",
       "      <td>12.126500</td>\n",
       "      <td>24.000000</td>\n",
       "      <td>711.000000</td>\n",
       "      <td>22.000000</td>\n",
       "      <td>396.900000</td>\n",
       "      <td>37.970000</td>\n",
       "      <td>50.000000</td>\n",
       "    </tr>\n",
       "  </tbody>\n",
       "</table>\n",
       "</div>"
      ],
      "text/plain": [
       "             CRIM          ZN       INDUS        CHAS         NOX          RM  \\\n",
       "count  506.000000  506.000000  506.000000  506.000000  506.000000  506.000000   \n",
       "mean     3.593761   11.363636   11.136779    0.069170    0.554695    6.284634   \n",
       "std      8.596783   23.322453    6.860353    0.253994    0.115878    0.702617   \n",
       "min      0.006320    0.000000    0.460000    0.000000    0.385000    3.561000   \n",
       "25%      0.082045    0.000000    5.190000    0.000000    0.449000    5.885500   \n",
       "50%      0.256510    0.000000    9.690000    0.000000    0.538000    6.208500   \n",
       "75%      3.647423   12.500000   18.100000    0.000000    0.624000    6.623500   \n",
       "max     88.976200  100.000000   27.740000    1.000000    0.871000    8.780000   \n",
       "\n",
       "              AGE         DIS         RAD         TAX     PTRATIO           B  \\\n",
       "count  506.000000  506.000000  506.000000  506.000000  506.000000  506.000000   \n",
       "mean    68.574901    3.795043    9.549407  408.237154   18.455534  356.674032   \n",
       "std     28.148861    2.105710    8.707259  168.537116    2.164946   91.294864   \n",
       "min      2.900000    1.129600    1.000000  187.000000   12.600000    0.320000   \n",
       "25%     45.025000    2.100175    4.000000  279.000000   17.400000  375.377500   \n",
       "50%     77.500000    3.207450    5.000000  330.000000   19.050000  391.440000   \n",
       "75%     94.075000    5.188425   24.000000  666.000000   20.200000  396.225000   \n",
       "max    100.000000   12.126500   24.000000  711.000000   22.000000  396.900000   \n",
       "\n",
       "            LSTAT        MEDV  \n",
       "count  506.000000  506.000000  \n",
       "mean    12.653063   22.532806  \n",
       "std      7.141062    9.197104  \n",
       "min      1.730000    5.000000  \n",
       "25%      6.950000   17.025000  \n",
       "50%     11.360000   21.200000  \n",
       "75%     16.955000   25.000000  \n",
       "max     37.970000   50.000000  "
      ]
     },
     "execution_count": 18,
     "metadata": {},
     "output_type": "execute_result"
    }
   ],
   "source": [
    "#Write your narrative answer here\n",
    "df=pd.DataFrame(data=dataset.data, columns=dataset.feature_names)\n",
    "df['MEDV']=dataset.target\n",
    "df.describe() "
   ]
  },
  {
   "cell_type": "code",
   "execution_count": 19,
   "metadata": {},
   "outputs": [
    {
     "name": "stdout",
     "output_type": "stream",
     "text": [
      "==============================================================================\n",
      "                 coef    std err          t      P>|t|      [0.025      0.975]\n",
      "------------------------------------------------------------------------------\n",
      "Intercept     22.0938      0.418     52.902      0.000      21.273      22.914\n",
      "CHAS           6.3462      1.588      3.996      0.000       3.226       9.466\n",
      "==============================================================================\n"
     ]
    }
   ],
   "source": [
    "import statsmodels.formula.api as smf\n",
    "\n",
    "model=smf.ols('MEDV ~ CHAS', df)  \n",
    "Fitting_results=model.fit() \n",
    "print(Fitting_results.summary().tables[1])"
   ]
  },
  {
   "cell_type": "markdown",
   "metadata": {},
   "source": [
    "Q1:<BR>\n",
    "qualitative feature: CHAS <br>\n",
    "defination: Charles River dummy variable (= 1 if tract bounds river; 0 otherwise) <br>\n",
    "Q2:<BR>\n",
    "intercept: 6.3462 <br>\n",
    "coefficient: 22.0938<BR>\n",
    "Q3:<br>\n",
    "If tract bounds river, the house will have 6.3462 additional MEDV."
   ]
  },
  {
   "cell_type": "markdown",
   "metadata": {},
   "source": [
    "<h3>  Problem #4. Regularization [30 points]  </h3>"
   ]
  },
  {
   "cell_type": "markdown",
   "metadata": {},
   "source": [
    "<h4> Problem #4-1. </h4> Answer the following questions \n",
    "\n",
    "- What is the objective using regularization?\n",
    "- Do you need to use regularization if you have only 1 feature (B0 and B1)?"
   ]
  },
  {
   "cell_type": "markdown",
   "metadata": {
    "collapsed": true
   },
   "source": [
    "Q1: The objective is shrinking coefficients towards zero, to avoid overfit by reducing the variance of the fitted model.<br>\n",
    "Q2: No"
   ]
  },
  {
   "cell_type": "markdown",
   "metadata": {},
   "source": [
    "<h4> Problem #4-2.Ridge Regression </h4>  <br>\n",
    "In this part, you should download and analyze **\"Boston House Prices\"** dataset. <br>\n",
    "Use a code below to download the  dataset: "
   ]
  },
  {
   "cell_type": "code",
   "execution_count": 20,
   "metadata": {},
   "outputs": [
    {
     "name": "stdout",
     "output_type": "stream",
     "text": [
      "dict_keys(['data', 'target', 'feature_names', 'DESCR'])\n"
     ]
    }
   ],
   "source": [
    "dataset = load_boston()\n",
    "print(dataset.keys())"
   ]
  },
  {
   "cell_type": "markdown",
   "metadata": {},
   "source": [
    "Follow steps to answer questions.\n",
    "- Fit a linear regression model with all features and report the estimated coefficients for the fitted model (do not just print summary, make a table with feature names and estimated coefficients) \n",
    "-  Fit a ridge regression model with λ = 1. Report the estimated coefficients for the fitted model. \n",
    "-  Fit a ridge regression model with λ = 0. Report the estimated coefficients for the fitted model. \n",
    "- Compare estimated coefficients of ridge regression models with λ = 1 and λ = 0  and linear regression model. (you can use descriptive statistics)\n",
    "- What did you observe from this comparison? \n",
    "- Comment your observation."
   ]
  },
  {
   "cell_type": "code",
   "execution_count": 21,
   "metadata": {},
   "outputs": [
    {
     "data": {
      "text/html": [
       "<div>\n",
       "<style>\n",
       "    .dataframe thead tr:only-child th {\n",
       "        text-align: right;\n",
       "    }\n",
       "\n",
       "    .dataframe thead th {\n",
       "        text-align: left;\n",
       "    }\n",
       "\n",
       "    .dataframe tbody tr th {\n",
       "        vertical-align: top;\n",
       "    }\n",
       "</style>\n",
       "<table border=\"1\" class=\"dataframe\">\n",
       "  <thead>\n",
       "    <tr style=\"text-align: right;\">\n",
       "      <th></th>\n",
       "      <th>CRIM</th>\n",
       "      <th>ZN</th>\n",
       "      <th>INDUS</th>\n",
       "      <th>CHAS</th>\n",
       "      <th>NOX</th>\n",
       "      <th>RM</th>\n",
       "      <th>AGE</th>\n",
       "      <th>DIS</th>\n",
       "      <th>RAD</th>\n",
       "      <th>TAX</th>\n",
       "      <th>PTRATIO</th>\n",
       "      <th>B</th>\n",
       "      <th>LSTAT</th>\n",
       "    </tr>\n",
       "  </thead>\n",
       "  <tbody>\n",
       "    <tr>\n",
       "      <th>coef1</th>\n",
       "      <td>-0.107171</td>\n",
       "      <td>0.046395</td>\n",
       "      <td>0.02086</td>\n",
       "      <td>2.688561</td>\n",
       "      <td>-17.795759</td>\n",
       "      <td>3.804752</td>\n",
       "      <td>0.000751</td>\n",
       "      <td>-1.475759</td>\n",
       "      <td>0.305655</td>\n",
       "      <td>-0.012329</td>\n",
       "      <td>-0.953464</td>\n",
       "      <td>0.009393</td>\n",
       "      <td>-0.525467</td>\n",
       "    </tr>\n",
       "  </tbody>\n",
       "</table>\n",
       "</div>"
      ],
      "text/plain": [
       "           CRIM        ZN    INDUS      CHAS        NOX        RM       AGE  \\\n",
       "coef1 -0.107171  0.046395  0.02086  2.688561 -17.795759  3.804752  0.000751   \n",
       "\n",
       "            DIS       RAD       TAX   PTRATIO         B     LSTAT  \n",
       "coef1 -1.475759  0.305655 -0.012329 -0.953464  0.009393 -0.525467  "
      ]
     },
     "execution_count": 21,
     "metadata": {},
     "output_type": "execute_result"
    }
   ],
   "source": [
    "#Q1\n",
    "from sklearn.linear_model import LinearRegression\n",
    "dataset = load_boston()\n",
    "df=pd.DataFrame(data=dataset.data, columns=dataset.feature_names)\n",
    "df['MEDV']=dataset.target\n",
    "linreg= LinearRegression().fit(df.iloc[:,0:13], df['MEDV'])\n",
    "coef_df1=pd.DataFrame(data=linreg.coef_.reshape(1,-1), columns=dataset.feature_names, index=['coef1'])\n",
    "coef_df1"
   ]
  },
  {
   "cell_type": "code",
   "execution_count": 22,
   "metadata": {},
   "outputs": [
    {
     "data": {
      "text/html": [
       "<div>\n",
       "<style>\n",
       "    .dataframe thead tr:only-child th {\n",
       "        text-align: right;\n",
       "    }\n",
       "\n",
       "    .dataframe thead th {\n",
       "        text-align: left;\n",
       "    }\n",
       "\n",
       "    .dataframe tbody tr th {\n",
       "        vertical-align: top;\n",
       "    }\n",
       "</style>\n",
       "<table border=\"1\" class=\"dataframe\">\n",
       "  <thead>\n",
       "    <tr style=\"text-align: right;\">\n",
       "      <th></th>\n",
       "      <th>CRIM</th>\n",
       "      <th>ZN</th>\n",
       "      <th>INDUS</th>\n",
       "      <th>CHAS</th>\n",
       "      <th>NOX</th>\n",
       "      <th>RM</th>\n",
       "      <th>AGE</th>\n",
       "      <th>DIS</th>\n",
       "      <th>RAD</th>\n",
       "      <th>TAX</th>\n",
       "      <th>PTRATIO</th>\n",
       "      <th>B</th>\n",
       "      <th>LSTAT</th>\n",
       "    </tr>\n",
       "  </thead>\n",
       "  <tbody>\n",
       "    <tr>\n",
       "      <th>coef2</th>\n",
       "      <td>-0.103622</td>\n",
       "      <td>0.047414</td>\n",
       "      <td>-0.008547</td>\n",
       "      <td>2.554221</td>\n",
       "      <td>-10.793436</td>\n",
       "      <td>3.849256</td>\n",
       "      <td>-0.005368</td>\n",
       "      <td>-1.37257</td>\n",
       "      <td>0.28965</td>\n",
       "      <td>-0.012907</td>\n",
       "      <td>-0.876633</td>\n",
       "      <td>0.009754</td>\n",
       "      <td>-0.534072</td>\n",
       "    </tr>\n",
       "  </tbody>\n",
       "</table>\n",
       "</div>"
      ],
      "text/plain": [
       "           CRIM        ZN     INDUS      CHAS        NOX        RM       AGE  \\\n",
       "coef2 -0.103622  0.047414 -0.008547  2.554221 -10.793436  3.849256 -0.005368   \n",
       "\n",
       "           DIS      RAD       TAX   PTRATIO         B     LSTAT  \n",
       "coef2 -1.37257  0.28965 -0.012907 -0.876633  0.009754 -0.534072  "
      ]
     },
     "execution_count": 22,
     "metadata": {},
     "output_type": "execute_result"
    }
   ],
   "source": [
    "#Q2\n",
    "from sklearn.linear_model import Ridge\n",
    "RidgeModel=Ridge(alpha=1).fit(df.iloc[:,0:13], df['MEDV'])\n",
    "coef_df2=pd.DataFrame(data=RidgeModel.coef_.reshape(1,-1), columns=dataset.feature_names, index=['coef2'])\n",
    "coef_df2"
   ]
  },
  {
   "cell_type": "code",
   "execution_count": 23,
   "metadata": {},
   "outputs": [
    {
     "data": {
      "text/html": [
       "<div>\n",
       "<style>\n",
       "    .dataframe thead tr:only-child th {\n",
       "        text-align: right;\n",
       "    }\n",
       "\n",
       "    .dataframe thead th {\n",
       "        text-align: left;\n",
       "    }\n",
       "\n",
       "    .dataframe tbody tr th {\n",
       "        vertical-align: top;\n",
       "    }\n",
       "</style>\n",
       "<table border=\"1\" class=\"dataframe\">\n",
       "  <thead>\n",
       "    <tr style=\"text-align: right;\">\n",
       "      <th></th>\n",
       "      <th>CRIM</th>\n",
       "      <th>ZN</th>\n",
       "      <th>INDUS</th>\n",
       "      <th>CHAS</th>\n",
       "      <th>NOX</th>\n",
       "      <th>RM</th>\n",
       "      <th>AGE</th>\n",
       "      <th>DIS</th>\n",
       "      <th>RAD</th>\n",
       "      <th>TAX</th>\n",
       "      <th>PTRATIO</th>\n",
       "      <th>B</th>\n",
       "      <th>LSTAT</th>\n",
       "    </tr>\n",
       "  </thead>\n",
       "  <tbody>\n",
       "    <tr>\n",
       "      <th>coef3</th>\n",
       "      <td>-0.107171</td>\n",
       "      <td>0.046395</td>\n",
       "      <td>0.02086</td>\n",
       "      <td>2.688561</td>\n",
       "      <td>-17.795759</td>\n",
       "      <td>3.804752</td>\n",
       "      <td>0.000751</td>\n",
       "      <td>-1.475759</td>\n",
       "      <td>0.305655</td>\n",
       "      <td>-0.012329</td>\n",
       "      <td>-0.953464</td>\n",
       "      <td>0.009393</td>\n",
       "      <td>-0.525467</td>\n",
       "    </tr>\n",
       "  </tbody>\n",
       "</table>\n",
       "</div>"
      ],
      "text/plain": [
       "           CRIM        ZN    INDUS      CHAS        NOX        RM       AGE  \\\n",
       "coef3 -0.107171  0.046395  0.02086  2.688561 -17.795759  3.804752  0.000751   \n",
       "\n",
       "            DIS       RAD       TAX   PTRATIO         B     LSTAT  \n",
       "coef3 -1.475759  0.305655 -0.012329 -0.953464  0.009393 -0.525467  "
      ]
     },
     "execution_count": 23,
     "metadata": {},
     "output_type": "execute_result"
    }
   ],
   "source": [
    "#Q3\n",
    "RidgeModel=Ridge(alpha=0).fit(df.iloc[:,0:13], df['MEDV'])\n",
    "coef_df3=pd.DataFrame(data=RidgeModel.coef_.reshape(1,-1), columns=dataset.feature_names, index=['coef3'])\n",
    "coef_df3"
   ]
  },
  {
   "cell_type": "code",
   "execution_count": 24,
   "metadata": {},
   "outputs": [
    {
     "data": {
      "text/html": [
       "<div>\n",
       "<style>\n",
       "    .dataframe thead tr:only-child th {\n",
       "        text-align: right;\n",
       "    }\n",
       "\n",
       "    .dataframe thead th {\n",
       "        text-align: left;\n",
       "    }\n",
       "\n",
       "    .dataframe tbody tr th {\n",
       "        vertical-align: top;\n",
       "    }\n",
       "</style>\n",
       "<table border=\"1\" class=\"dataframe\">\n",
       "  <thead>\n",
       "    <tr style=\"text-align: right;\">\n",
       "      <th></th>\n",
       "      <th>CRIM</th>\n",
       "      <th>ZN</th>\n",
       "      <th>INDUS</th>\n",
       "      <th>CHAS</th>\n",
       "      <th>NOX</th>\n",
       "      <th>RM</th>\n",
       "      <th>AGE</th>\n",
       "      <th>DIS</th>\n",
       "      <th>RAD</th>\n",
       "      <th>TAX</th>\n",
       "      <th>PTRATIO</th>\n",
       "      <th>B</th>\n",
       "      <th>LSTAT</th>\n",
       "    </tr>\n",
       "  </thead>\n",
       "  <tbody>\n",
       "    <tr>\n",
       "      <th>coef1</th>\n",
       "      <td>-0.107171</td>\n",
       "      <td>0.046395</td>\n",
       "      <td>0.020860</td>\n",
       "      <td>2.688561</td>\n",
       "      <td>-17.795759</td>\n",
       "      <td>3.804752</td>\n",
       "      <td>0.000751</td>\n",
       "      <td>-1.475759</td>\n",
       "      <td>0.305655</td>\n",
       "      <td>-0.012329</td>\n",
       "      <td>-0.953464</td>\n",
       "      <td>0.009393</td>\n",
       "      <td>-0.525467</td>\n",
       "    </tr>\n",
       "    <tr>\n",
       "      <th>coef2</th>\n",
       "      <td>-0.103622</td>\n",
       "      <td>0.047414</td>\n",
       "      <td>-0.008547</td>\n",
       "      <td>2.554221</td>\n",
       "      <td>-10.793436</td>\n",
       "      <td>3.849256</td>\n",
       "      <td>-0.005368</td>\n",
       "      <td>-1.372570</td>\n",
       "      <td>0.289650</td>\n",
       "      <td>-0.012907</td>\n",
       "      <td>-0.876633</td>\n",
       "      <td>0.009754</td>\n",
       "      <td>-0.534072</td>\n",
       "    </tr>\n",
       "    <tr>\n",
       "      <th>coef3</th>\n",
       "      <td>-0.107171</td>\n",
       "      <td>0.046395</td>\n",
       "      <td>0.020860</td>\n",
       "      <td>2.688561</td>\n",
       "      <td>-17.795759</td>\n",
       "      <td>3.804752</td>\n",
       "      <td>0.000751</td>\n",
       "      <td>-1.475759</td>\n",
       "      <td>0.305655</td>\n",
       "      <td>-0.012329</td>\n",
       "      <td>-0.953464</td>\n",
       "      <td>0.009393</td>\n",
       "      <td>-0.525467</td>\n",
       "    </tr>\n",
       "  </tbody>\n",
       "</table>\n",
       "</div>"
      ],
      "text/plain": [
       "           CRIM        ZN     INDUS      CHAS        NOX        RM       AGE  \\\n",
       "coef1 -0.107171  0.046395  0.020860  2.688561 -17.795759  3.804752  0.000751   \n",
       "coef2 -0.103622  0.047414 -0.008547  2.554221 -10.793436  3.849256 -0.005368   \n",
       "coef3 -0.107171  0.046395  0.020860  2.688561 -17.795759  3.804752  0.000751   \n",
       "\n",
       "            DIS       RAD       TAX   PTRATIO         B     LSTAT  \n",
       "coef1 -1.475759  0.305655 -0.012329 -0.953464  0.009393 -0.525467  \n",
       "coef2 -1.372570  0.289650 -0.012907 -0.876633  0.009754 -0.534072  \n",
       "coef3 -1.475759  0.305655 -0.012329 -0.953464  0.009393 -0.525467  "
      ]
     },
     "execution_count": 24,
     "metadata": {},
     "output_type": "execute_result"
    }
   ],
   "source": [
    "#Q4\n",
    "frames = [coef_df1, coef_df2, coef_df3]\n",
    "result = pd.concat(frames)\n",
    "result"
   ]
  },
  {
   "cell_type": "code",
   "execution_count": 25,
   "metadata": {},
   "outputs": [
    {
     "data": {
      "image/png": "[encoded data removed]",
      "text/plain": [
       "<matplotlib.figure.Figure at 0x1a18551ac8>"
      ]
     },
     "metadata": {},
     "output_type": "display_data"
    }
   ],
   "source": [
    "result.plot(figsize=(5,5))\n",
    "plt.show()"
   ]
  },
  {
   "cell_type": "markdown",
   "metadata": {},
   "source": [
    "Ridge: all features are set toward zero but not zero. If the tuning parameter is zero, the coefficients are the same as coefficients of linear regression."
   ]
  },
  {
   "cell_type": "markdown",
   "metadata": {},
   "source": [
    "<h4> Problem #4-3.Ridge Regression (part 2) </h4>  <br>\n",
    "Fit a ridge regression with λ = 5, 10, 50, 100, and 1000. For each value, report the estimated coefficients for the fitted model (do not just print summary, make a DataFrame with feature names and estimated coefficients)\n",
    "- What happens to the coefficients as you increase λ?\n",
    "- What happens to the flexibility of the model as you increase λ?"
   ]
  },
  {
   "cell_type": "code",
   "execution_count": 55,
   "metadata": {},
   "outputs": [
    {
     "data": {
      "text/html": [
       "<div>\n",
       "<style>\n",
       "    .dataframe thead tr:only-child th {\n",
       "        text-align: right;\n",
       "    }\n",
       "\n",
       "    .dataframe thead th {\n",
       "        text-align: left;\n",
       "    }\n",
       "\n",
       "    .dataframe tbody tr th {\n",
       "        vertical-align: top;\n",
       "    }\n",
       "</style>\n",
       "<table border=\"1\" class=\"dataframe\">\n",
       "  <thead>\n",
       "    <tr style=\"text-align: right;\">\n",
       "      <th></th>\n",
       "      <th>CRIM</th>\n",
       "      <th>ZN</th>\n",
       "      <th>INDUS</th>\n",
       "      <th>CHAS</th>\n",
       "      <th>NOX</th>\n",
       "      <th>RM</th>\n",
       "      <th>AGE</th>\n",
       "      <th>DIS</th>\n",
       "      <th>RAD</th>\n",
       "      <th>TAX</th>\n",
       "      <th>PTRATIO</th>\n",
       "      <th>B</th>\n",
       "      <th>LSTAT</th>\n",
       "    </tr>\n",
       "  </thead>\n",
       "  <tbody>\n",
       "    <tr>\n",
       "      <th>5coef</th>\n",
       "      <td>-0.100720</td>\n",
       "      <td>0.048751</td>\n",
       "      <td>-0.035672</td>\n",
       "      <td>2.231137</td>\n",
       "      <td>-4.191957</td>\n",
       "      <td>3.808307</td>\n",
       "      <td>-0.010293</td>\n",
       "      <td>-1.275554</td>\n",
       "      <td>0.278221</td>\n",
       "      <td>-0.013619</td>\n",
       "      <td>-0.810244</td>\n",
       "      <td>0.010068</td>\n",
       "      <td>-0.548615</td>\n",
       "    </tr>\n",
       "    <tr>\n",
       "      <th>10coef</th>\n",
       "      <td>-0.100352</td>\n",
       "      <td>0.049547</td>\n",
       "      <td>-0.042745</td>\n",
       "      <td>1.953452</td>\n",
       "      <td>-2.374959</td>\n",
       "      <td>3.698132</td>\n",
       "      <td>-0.010674</td>\n",
       "      <td>-1.248455</td>\n",
       "      <td>0.279016</td>\n",
       "      <td>-0.013989</td>\n",
       "      <td>-0.798335</td>\n",
       "      <td>0.010117</td>\n",
       "      <td>-0.560097</td>\n",
       "    </tr>\n",
       "    <tr>\n",
       "      <th>50coef</th>\n",
       "      <td>-0.101349</td>\n",
       "      <td>0.052741</td>\n",
       "      <td>-0.050729</td>\n",
       "      <td>1.006646</td>\n",
       "      <td>-0.528400</td>\n",
       "      <td>2.932370</td>\n",
       "      <td>-0.004783</td>\n",
       "      <td>-1.200640</td>\n",
       "      <td>0.300107</td>\n",
       "      <td>-0.015205</td>\n",
       "      <td>-0.815534</td>\n",
       "      <td>0.009824</td>\n",
       "      <td>-0.618763</td>\n",
       "    </tr>\n",
       "    <tr>\n",
       "      <th>100coef</th>\n",
       "      <td>-0.101451</td>\n",
       "      <td>0.054470</td>\n",
       "      <td>-0.052626</td>\n",
       "      <td>0.638647</td>\n",
       "      <td>-0.263245</td>\n",
       "      <td>2.331966</td>\n",
       "      <td>0.001230</td>\n",
       "      <td>-1.153157</td>\n",
       "      <td>0.314915</td>\n",
       "      <td>-0.015852</td>\n",
       "      <td>-0.829503</td>\n",
       "      <td>0.009471</td>\n",
       "      <td>-0.661312</td>\n",
       "    </tr>\n",
       "    <tr>\n",
       "      <th>1000coef</th>\n",
       "      <td>-0.090546</td>\n",
       "      <td>0.054363</td>\n",
       "      <td>-0.036190</td>\n",
       "      <td>0.101465</td>\n",
       "      <td>-0.016038</td>\n",
       "      <td>0.568084</td>\n",
       "      <td>0.030575</td>\n",
       "      <td>-0.612614</td>\n",
       "      <td>0.310552</td>\n",
       "      <td>-0.016599</td>\n",
       "      <td>-0.659166</td>\n",
       "      <td>0.008057</td>\n",
       "      <td>-0.763962</td>\n",
       "    </tr>\n",
       "  </tbody>\n",
       "</table>\n",
       "</div>"
      ],
      "text/plain": [
       "              CRIM        ZN     INDUS      CHAS       NOX        RM  \\\n",
       "5coef    -0.100720  0.048751 -0.035672  2.231137 -4.191957  3.808307   \n",
       "10coef   -0.100352  0.049547 -0.042745  1.953452 -2.374959  3.698132   \n",
       "50coef   -0.101349  0.052741 -0.050729  1.006646 -0.528400  2.932370   \n",
       "100coef  -0.101451  0.054470 -0.052626  0.638647 -0.263245  2.331966   \n",
       "1000coef -0.090546  0.054363 -0.036190  0.101465 -0.016038  0.568084   \n",
       "\n",
       "               AGE       DIS       RAD       TAX   PTRATIO         B     LSTAT  \n",
       "5coef    -0.010293 -1.275554  0.278221 -0.013619 -0.810244  0.010068 -0.548615  \n",
       "10coef   -0.010674 -1.248455  0.279016 -0.013989 -0.798335  0.010117 -0.560097  \n",
       "50coef   -0.004783 -1.200640  0.300107 -0.015205 -0.815534  0.009824 -0.618763  \n",
       "100coef   0.001230 -1.153157  0.314915 -0.015852 -0.829503  0.009471 -0.661312  \n",
       "1000coef  0.030575 -0.612614  0.310552 -0.016599 -0.659166  0.008057 -0.763962  "
      ]
     },
     "execution_count": 55,
     "metadata": {},
     "output_type": "execute_result"
    }
   ],
   "source": [
    "from sklearn.linear_model import Ridge\n",
    "frames = [] \n",
    "def ridge_regression(alp, row_name):\n",
    "    ridge=Ridge(alpha=alp).fit(df.iloc[:,0:13], df['MEDV'])\n",
    "    coef_df=pd.DataFrame(data=ridge.coef_.reshape(1,-1), columns=dataset.feature_names, index=[row_name])\n",
    "    frames.append(coef_df)\n",
    "\n",
    "alpha=[(5,'5coef'), (10,'10coef'), (50,'50coef'), (100, '100coef'), (1000,'1000coef')] \n",
    "                                                   \n",
    "for (i,j) in alpha:\n",
    "    ridge_regression(i, j)\n",
    "\n",
    "result = pd.concat(frames)\n",
    "result "
   ]
  },
  {
   "cell_type": "code",
   "execution_count": 56,
   "metadata": {},
   "outputs": [
    {
     "data": {
      "image/png": "[encoded data removed]",
      "text/plain": [
       "<matplotlib.figure.Figure at 0x1a234368d0>"
      ]
     },
     "metadata": {},
     "output_type": "display_data"
    }
   ],
   "source": [
    "result.plot(figsize=(5,5))\n",
    "plt.show()"
   ]
  },
  {
   "cell_type": "markdown",
   "metadata": {},
   "source": [
    "What happens to the coefficients as you increase λ?<br>\n",
    "The coefficients tend to zero.<br><br>\n",
    "What happens to the flexibility of the model as you increase λ?<br>\n",
    "The flexibility do not change."
   ]
  },
  {
   "cell_type": "markdown",
   "metadata": {},
   "source": [
    "<h4> Problem #4-4 Lasso Regression </h4>  <br>\n",
    "In this part, you should download and analyze **\"Boston House Prices\"** dataset. <br>\n"
   ]
  },
  {
   "cell_type": "markdown",
   "metadata": {},
   "source": [
    "Follow steps to answer questions.\n",
    "- Fit a linear regression model with all features and report the estimated coefficients for the fitted model (do not just print summary, make a DataFrame with feature names and estimated coefficients) \n",
    "-  Fit a lasso regression model with λ = 1. Report the estimated coefficients for the fitted model. \n",
    "-  Fit a lasso regression model with λ = 0. Report the estimated coefficients for the fitted model. \n",
    "- Compare estimated coefficients of lasso regression models with λ = 1 and λ = 0, ridge regression models with λ = 1 and λ = 0 and linear regression model. (you can use descriptive statistics)\n",
    "\n",
    "- What did you observe from this comparison? \n",
    "\n",
    "- Comment your observation."
   ]
  },
  {
   "cell_type": "code",
   "execution_count": 281,
   "metadata": {},
   "outputs": [
    {
     "data": {
      "text/html": [
       "<div>\n",
       "<style>\n",
       "    .dataframe thead tr:only-child th {\n",
       "        text-align: right;\n",
       "    }\n",
       "\n",
       "    .dataframe thead th {\n",
       "        text-align: left;\n",
       "    }\n",
       "\n",
       "    .dataframe tbody tr th {\n",
       "        vertical-align: top;\n",
       "    }\n",
       "</style>\n",
       "<table border=\"1\" class=\"dataframe\">\n",
       "  <thead>\n",
       "    <tr style=\"text-align: right;\">\n",
       "      <th></th>\n",
       "      <th>CRIM</th>\n",
       "      <th>ZN</th>\n",
       "      <th>INDUS</th>\n",
       "      <th>CHAS</th>\n",
       "      <th>NOX</th>\n",
       "      <th>RM</th>\n",
       "      <th>AGE</th>\n",
       "      <th>DIS</th>\n",
       "      <th>RAD</th>\n",
       "      <th>TAX</th>\n",
       "      <th>PTRATIO</th>\n",
       "      <th>B</th>\n",
       "      <th>LSTAT</th>\n",
       "    </tr>\n",
       "  </thead>\n",
       "  <tbody>\n",
       "    <tr>\n",
       "      <th>coef</th>\n",
       "      <td>-0.107171</td>\n",
       "      <td>0.046395</td>\n",
       "      <td>0.02086</td>\n",
       "      <td>2.688561</td>\n",
       "      <td>-17.795759</td>\n",
       "      <td>3.804752</td>\n",
       "      <td>0.000751</td>\n",
       "      <td>-1.475759</td>\n",
       "      <td>0.305655</td>\n",
       "      <td>-0.012329</td>\n",
       "      <td>-0.953464</td>\n",
       "      <td>0.009393</td>\n",
       "      <td>-0.525467</td>\n",
       "    </tr>\n",
       "  </tbody>\n",
       "</table>\n",
       "</div>"
      ],
      "text/plain": [
       "          CRIM        ZN    INDUS      CHAS        NOX        RM       AGE  \\\n",
       "coef -0.107171  0.046395  0.02086  2.688561 -17.795759  3.804752  0.000751   \n",
       "\n",
       "           DIS       RAD       TAX   PTRATIO         B     LSTAT  \n",
       "coef -1.475759  0.305655 -0.012329 -0.953464  0.009393 -0.525467  "
      ]
     },
     "execution_count": 281,
     "metadata": {},
     "output_type": "execute_result"
    }
   ],
   "source": [
    "from sklearn.linear_model import LinearRegression\n",
    "dataset = load_boston()\n",
    "df=pd.DataFrame(data=dataset.data, columns=dataset.feature_names)\n",
    "df['MEDV']=dataset.target\n",
    "linreg= LinearRegression().fit(df.iloc[:,0:13], df['MEDV'])\n",
    "coef_df1=pd.DataFrame(data=linreg.coef_.reshape(1,-1), columns=dataset.feature_names, index=['coef'])\n",
    "coef_df1"
   ]
  },
  {
   "cell_type": "code",
   "execution_count": 282,
   "metadata": {},
   "outputs": [
    {
     "data": {
      "text/html": [
       "<div>\n",
       "<style>\n",
       "    .dataframe thead tr:only-child th {\n",
       "        text-align: right;\n",
       "    }\n",
       "\n",
       "    .dataframe thead th {\n",
       "        text-align: left;\n",
       "    }\n",
       "\n",
       "    .dataframe tbody tr th {\n",
       "        vertical-align: top;\n",
       "    }\n",
       "</style>\n",
       "<table border=\"1\" class=\"dataframe\">\n",
       "  <thead>\n",
       "    <tr style=\"text-align: right;\">\n",
       "      <th></th>\n",
       "      <th>CRIM</th>\n",
       "      <th>ZN</th>\n",
       "      <th>INDUS</th>\n",
       "      <th>CHAS</th>\n",
       "      <th>NOX</th>\n",
       "      <th>RM</th>\n",
       "      <th>AGE</th>\n",
       "      <th>DIS</th>\n",
       "      <th>RAD</th>\n",
       "      <th>TAX</th>\n",
       "      <th>PTRATIO</th>\n",
       "      <th>B</th>\n",
       "      <th>LSTAT</th>\n",
       "    </tr>\n",
       "  </thead>\n",
       "  <tbody>\n",
       "    <tr>\n",
       "      <th>coef</th>\n",
       "      <td>-0.063423</td>\n",
       "      <td>0.049169</td>\n",
       "      <td>-0.0</td>\n",
       "      <td>0.0</td>\n",
       "      <td>-0.0</td>\n",
       "      <td>0.946786</td>\n",
       "      <td>0.020927</td>\n",
       "      <td>-0.669009</td>\n",
       "      <td>0.264175</td>\n",
       "      <td>-0.015209</td>\n",
       "      <td>-0.723199</td>\n",
       "      <td>0.008291</td>\n",
       "      <td>-0.761433</td>\n",
       "    </tr>\n",
       "  </tbody>\n",
       "</table>\n",
       "</div>"
      ],
      "text/plain": [
       "          CRIM        ZN  INDUS  CHAS  NOX        RM       AGE       DIS  \\\n",
       "coef -0.063423  0.049169   -0.0   0.0 -0.0  0.946786  0.020927 -0.669009   \n",
       "\n",
       "           RAD       TAX   PTRATIO         B     LSTAT  \n",
       "coef  0.264175 -0.015209 -0.723199  0.008291 -0.761433  "
      ]
     },
     "execution_count": 282,
     "metadata": {},
     "output_type": "execute_result"
    }
   ],
   "source": [
    "#Q2\n",
    "from sklearn.linear_model import Lasso\n",
    "LassoModel=Lasso(alpha=1).fit(df.iloc[:,0:13], df['MEDV'])\n",
    "coef_df2=pd.DataFrame(data=LassoModel.coef_.reshape(1,-1), columns=dataset.feature_names, index=['coef'])\n",
    "coef_df2"
   ]
  },
  {
   "cell_type": "code",
   "execution_count": 283,
   "metadata": {},
   "outputs": [
    {
     "name": "stderr",
     "output_type": "stream",
     "text": [
      "/Users/autumn/anaconda3/lib/python3.6/site-packages/ipykernel_launcher.py:1: UserWarning: With alpha=0, this algorithm does not converge well. You are advised to use the LinearRegression estimator\n",
      "  \"\"\"Entry point for launching an IPython kernel.\n",
      "/Users/autumn/anaconda3/lib/python3.6/site-packages/sklearn/linear_model/coordinate_descent.py:477: UserWarning: Coordinate descent with no regularization may lead to unexpected results and is discouraged.\n",
      "  positive)\n",
      "/Users/autumn/anaconda3/lib/python3.6/site-packages/sklearn/linear_model/coordinate_descent.py:491: ConvergenceWarning: Objective did not converge. You might want to increase the number of iterations. Fitting data with very small alpha may cause precision problems.\n",
      "  ConvergenceWarning)\n"
     ]
    },
    {
     "data": {
      "text/html": [
       "<div>\n",
       "<style>\n",
       "    .dataframe thead tr:only-child th {\n",
       "        text-align: right;\n",
       "    }\n",
       "\n",
       "    .dataframe thead th {\n",
       "        text-align: left;\n",
       "    }\n",
       "\n",
       "    .dataframe tbody tr th {\n",
       "        vertical-align: top;\n",
       "    }\n",
       "</style>\n",
       "<table border=\"1\" class=\"dataframe\">\n",
       "  <thead>\n",
       "    <tr style=\"text-align: right;\">\n",
       "      <th></th>\n",
       "      <th>CRIM</th>\n",
       "      <th>ZN</th>\n",
       "      <th>INDUS</th>\n",
       "      <th>CHAS</th>\n",
       "      <th>NOX</th>\n",
       "      <th>RM</th>\n",
       "      <th>AGE</th>\n",
       "      <th>DIS</th>\n",
       "      <th>RAD</th>\n",
       "      <th>TAX</th>\n",
       "      <th>PTRATIO</th>\n",
       "      <th>B</th>\n",
       "      <th>LSTAT</th>\n",
       "    </tr>\n",
       "  </thead>\n",
       "  <tbody>\n",
       "    <tr>\n",
       "      <th>coef</th>\n",
       "      <td>-0.107171</td>\n",
       "      <td>0.046395</td>\n",
       "      <td>0.02086</td>\n",
       "      <td>2.688561</td>\n",
       "      <td>-17.795759</td>\n",
       "      <td>3.804752</td>\n",
       "      <td>0.000751</td>\n",
       "      <td>-1.475759</td>\n",
       "      <td>0.305655</td>\n",
       "      <td>-0.012329</td>\n",
       "      <td>-0.953464</td>\n",
       "      <td>0.009393</td>\n",
       "      <td>-0.525467</td>\n",
       "    </tr>\n",
       "  </tbody>\n",
       "</table>\n",
       "</div>"
      ],
      "text/plain": [
       "          CRIM        ZN    INDUS      CHAS        NOX        RM       AGE  \\\n",
       "coef -0.107171  0.046395  0.02086  2.688561 -17.795759  3.804752  0.000751   \n",
       "\n",
       "           DIS       RAD       TAX   PTRATIO         B     LSTAT  \n",
       "coef -1.475759  0.305655 -0.012329 -0.953464  0.009393 -0.525467  "
      ]
     },
     "execution_count": 283,
     "metadata": {},
     "output_type": "execute_result"
    }
   ],
   "source": [
    "LassoModel=Lasso(alpha=0).fit(df.iloc[:,0:13], df['MEDV'])\n",
    "coef_df3=pd.DataFrame(data=LassoModel.coef_.reshape(1,-1), columns=dataset.feature_names, index=['coef'])\n",
    "coef_df3"
   ]
  },
  {
   "cell_type": "code",
   "execution_count": 284,
   "metadata": {},
   "outputs": [
    {
     "data": {
      "text/html": [
       "<div>\n",
       "<style>\n",
       "    .dataframe thead tr:only-child th {\n",
       "        text-align: right;\n",
       "    }\n",
       "\n",
       "    .dataframe thead th {\n",
       "        text-align: left;\n",
       "    }\n",
       "\n",
       "    .dataframe tbody tr th {\n",
       "        vertical-align: top;\n",
       "    }\n",
       "</style>\n",
       "<table border=\"1\" class=\"dataframe\">\n",
       "  <thead>\n",
       "    <tr style=\"text-align: right;\">\n",
       "      <th></th>\n",
       "      <th>CRIM</th>\n",
       "      <th>ZN</th>\n",
       "      <th>INDUS</th>\n",
       "      <th>CHAS</th>\n",
       "      <th>NOX</th>\n",
       "      <th>RM</th>\n",
       "      <th>AGE</th>\n",
       "      <th>DIS</th>\n",
       "      <th>RAD</th>\n",
       "      <th>TAX</th>\n",
       "      <th>PTRATIO</th>\n",
       "      <th>B</th>\n",
       "      <th>LSTAT</th>\n",
       "    </tr>\n",
       "  </thead>\n",
       "  <tbody>\n",
       "    <tr>\n",
       "      <th>coef</th>\n",
       "      <td>-0.107171</td>\n",
       "      <td>0.046395</td>\n",
       "      <td>0.02086</td>\n",
       "      <td>2.688561</td>\n",
       "      <td>-17.795759</td>\n",
       "      <td>3.804752</td>\n",
       "      <td>0.000751</td>\n",
       "      <td>-1.475759</td>\n",
       "      <td>0.305655</td>\n",
       "      <td>-0.012329</td>\n",
       "      <td>-0.953464</td>\n",
       "      <td>0.009393</td>\n",
       "      <td>-0.525467</td>\n",
       "    </tr>\n",
       "    <tr>\n",
       "      <th>coef</th>\n",
       "      <td>-0.063423</td>\n",
       "      <td>0.049169</td>\n",
       "      <td>-0.00000</td>\n",
       "      <td>0.000000</td>\n",
       "      <td>-0.000000</td>\n",
       "      <td>0.946786</td>\n",
       "      <td>0.020927</td>\n",
       "      <td>-0.669009</td>\n",
       "      <td>0.264175</td>\n",
       "      <td>-0.015209</td>\n",
       "      <td>-0.723199</td>\n",
       "      <td>0.008291</td>\n",
       "      <td>-0.761433</td>\n",
       "    </tr>\n",
       "    <tr>\n",
       "      <th>coef</th>\n",
       "      <td>-0.107171</td>\n",
       "      <td>0.046395</td>\n",
       "      <td>0.02086</td>\n",
       "      <td>2.688561</td>\n",
       "      <td>-17.795759</td>\n",
       "      <td>3.804752</td>\n",
       "      <td>0.000751</td>\n",
       "      <td>-1.475759</td>\n",
       "      <td>0.305655</td>\n",
       "      <td>-0.012329</td>\n",
       "      <td>-0.953464</td>\n",
       "      <td>0.009393</td>\n",
       "      <td>-0.525467</td>\n",
       "    </tr>\n",
       "  </tbody>\n",
       "</table>\n",
       "</div>"
      ],
      "text/plain": [
       "          CRIM        ZN    INDUS      CHAS        NOX        RM       AGE  \\\n",
       "coef -0.107171  0.046395  0.02086  2.688561 -17.795759  3.804752  0.000751   \n",
       "coef -0.063423  0.049169 -0.00000  0.000000  -0.000000  0.946786  0.020927   \n",
       "coef -0.107171  0.046395  0.02086  2.688561 -17.795759  3.804752  0.000751   \n",
       "\n",
       "           DIS       RAD       TAX   PTRATIO         B     LSTAT  \n",
       "coef -1.475759  0.305655 -0.012329 -0.953464  0.009393 -0.525467  \n",
       "coef -0.669009  0.264175 -0.015209 -0.723199  0.008291 -0.761433  \n",
       "coef -1.475759  0.305655 -0.012329 -0.953464  0.009393 -0.525467  "
      ]
     },
     "execution_count": 284,
     "metadata": {},
     "output_type": "execute_result"
    }
   ],
   "source": [
    "frames = [coef_df1, coef_df2, coef_df3]\n",
    "result = pd.concat(frames)\n",
    "result"
   ]
  },
  {
   "cell_type": "code",
   "execution_count": 285,
   "metadata": {},
   "outputs": [
    {
     "data": {
      "image/png": "[encoded data removed]",
      "text/plain": [
       "<matplotlib.figure.Figure at 0x1a22987390>"
      ]
     },
     "metadata": {},
     "output_type": "display_data"
    }
   ],
   "source": [
    "result.plot(figsize=(5,5))\n",
    "plt.show()"
   ]
  },
  {
   "cell_type": "markdown",
   "metadata": {},
   "source": [
    "Lasso: subset of features can be selected, and other coefficients are set to zero. When the tuning parameter is sufficiently large, some coefficients will be forced to be zero. If the tuning parameter is zero, the coefficients are the same as coefficients of linear regression.<br>\n",
    "I observe that there are obvious change of 'CHAS', 'NOX' and 'RM', which are approach to zero. And 'CHAS', 'NOX' and 'INDUS' become zero. "
   ]
  },
  {
   "cell_type": "markdown",
   "metadata": {},
   "source": [
    "<h4> Problem #4-5.Lasso Regression (part 2) </h4>  <br>\n",
    "Fit a lasso regression with λ = 5, 10, 50, 100, and 1000. For each value, report the estimated coefficients for the fitted model (do not just print summary, make a DataFrmae with feature names and estimated coefficients)\n",
    "- What happens to the coefficients as you increase λ?\n",
    "- What happens to the flexibility of the model as you increase λ?"
   ]
  },
  {
   "cell_type": "code",
   "execution_count": 165,
   "metadata": {},
   "outputs": [
    {
     "data": {
      "text/html": [
       "<div>\n",
       "<style>\n",
       "    .dataframe thead tr:only-child th {\n",
       "        text-align: right;\n",
       "    }\n",
       "\n",
       "    .dataframe thead th {\n",
       "        text-align: left;\n",
       "    }\n",
       "\n",
       "    .dataframe tbody tr th {\n",
       "        vertical-align: top;\n",
       "    }\n",
       "</style>\n",
       "<table border=\"1\" class=\"dataframe\">\n",
       "  <thead>\n",
       "    <tr style=\"text-align: right;\">\n",
       "      <th></th>\n",
       "      <th>CRIM</th>\n",
       "      <th>ZN</th>\n",
       "      <th>INDUS</th>\n",
       "      <th>CHAS</th>\n",
       "      <th>NOX</th>\n",
       "      <th>RM</th>\n",
       "      <th>AGE</th>\n",
       "      <th>DIS</th>\n",
       "      <th>RAD</th>\n",
       "      <th>TAX</th>\n",
       "      <th>PTRATIO</th>\n",
       "      <th>B</th>\n",
       "      <th>LSTAT</th>\n",
       "    </tr>\n",
       "  </thead>\n",
       "  <tbody>\n",
       "    <tr>\n",
       "      <th>5</th>\n",
       "      <td>-0.0</td>\n",
       "      <td>0.043437</td>\n",
       "      <td>-0.0</td>\n",
       "      <td>0.0</td>\n",
       "      <td>-0.0</td>\n",
       "      <td>0.0</td>\n",
       "      <td>0.036553</td>\n",
       "      <td>-0.0</td>\n",
       "      <td>0.0</td>\n",
       "      <td>-0.006554</td>\n",
       "      <td>-0.0</td>\n",
       "      <td>0.009463</td>\n",
       "      <td>-0.742679</td>\n",
       "    </tr>\n",
       "    <tr>\n",
       "      <th>10</th>\n",
       "      <td>-0.0</td>\n",
       "      <td>0.029071</td>\n",
       "      <td>-0.0</td>\n",
       "      <td>0.0</td>\n",
       "      <td>-0.0</td>\n",
       "      <td>0.0</td>\n",
       "      <td>0.000000</td>\n",
       "      <td>-0.0</td>\n",
       "      <td>0.0</td>\n",
       "      <td>-0.007961</td>\n",
       "      <td>-0.0</td>\n",
       "      <td>0.010795</td>\n",
       "      <td>-0.552247</td>\n",
       "    </tr>\n",
       "    <tr>\n",
       "      <th>50</th>\n",
       "      <td>-0.0</td>\n",
       "      <td>0.000000</td>\n",
       "      <td>-0.0</td>\n",
       "      <td>0.0</td>\n",
       "      <td>-0.0</td>\n",
       "      <td>0.0</td>\n",
       "      <td>-0.000000</td>\n",
       "      <td>0.0</td>\n",
       "      <td>0.0</td>\n",
       "      <td>-0.019997</td>\n",
       "      <td>-0.0</td>\n",
       "      <td>0.013187</td>\n",
       "      <td>-0.000000</td>\n",
       "    </tr>\n",
       "    <tr>\n",
       "      <th>100</th>\n",
       "      <td>-0.0</td>\n",
       "      <td>0.000000</td>\n",
       "      <td>-0.0</td>\n",
       "      <td>0.0</td>\n",
       "      <td>-0.0</td>\n",
       "      <td>0.0</td>\n",
       "      <td>-0.000000</td>\n",
       "      <td>0.0</td>\n",
       "      <td>-0.0</td>\n",
       "      <td>-0.019489</td>\n",
       "      <td>-0.0</td>\n",
       "      <td>0.007723</td>\n",
       "      <td>-0.000000</td>\n",
       "    </tr>\n",
       "    <tr>\n",
       "      <th>1000</th>\n",
       "      <td>-0.0</td>\n",
       "      <td>0.000000</td>\n",
       "      <td>-0.0</td>\n",
       "      <td>0.0</td>\n",
       "      <td>-0.0</td>\n",
       "      <td>0.0</td>\n",
       "      <td>-0.000000</td>\n",
       "      <td>0.0</td>\n",
       "      <td>-0.0</td>\n",
       "      <td>-0.000000</td>\n",
       "      <td>-0.0</td>\n",
       "      <td>0.000000</td>\n",
       "      <td>-0.000000</td>\n",
       "    </tr>\n",
       "  </tbody>\n",
       "</table>\n",
       "</div>"
      ],
      "text/plain": [
       "      CRIM        ZN  INDUS  CHAS  NOX   RM       AGE  DIS  RAD       TAX  \\\n",
       "5     -0.0  0.043437   -0.0   0.0 -0.0  0.0  0.036553 -0.0  0.0 -0.006554   \n",
       "10    -0.0  0.029071   -0.0   0.0 -0.0  0.0  0.000000 -0.0  0.0 -0.007961   \n",
       "50    -0.0  0.000000   -0.0   0.0 -0.0  0.0 -0.000000  0.0  0.0 -0.019997   \n",
       "100   -0.0  0.000000   -0.0   0.0 -0.0  0.0 -0.000000  0.0 -0.0 -0.019489   \n",
       "1000  -0.0  0.000000   -0.0   0.0 -0.0  0.0 -0.000000  0.0 -0.0 -0.000000   \n",
       "\n",
       "      PTRATIO         B     LSTAT  \n",
       "5        -0.0  0.009463 -0.742679  \n",
       "10       -0.0  0.010795 -0.552247  \n",
       "50       -0.0  0.013187 -0.000000  \n",
       "100      -0.0  0.007723 -0.000000  \n",
       "1000     -0.0  0.000000 -0.000000  "
      ]
     },
     "execution_count": 165,
     "metadata": {},
     "output_type": "execute_result"
    }
   ],
   "source": [
    "#Write your narrative answer here\n",
    "alpha_list=[5, 10, 50, 100, 1000]\n",
    "coef_df=pd.DataFrame(columns=dataset.feature_names) \n",
    "for i in alpha_list:\n",
    "    LassoModel=Lasso(alpha=i).fit(df.iloc[:,0:13], df['MEDV'])\n",
    "    coef_df.loc[i] = LassoModel.coef_\n",
    "coef_df"
   ]
  },
  {
   "cell_type": "markdown",
   "metadata": {},
   "source": [
    "Q1:<br>\n",
    "As the increasing of λ, coefficients become less and some of them become zero.<br>\n",
    "Q2:<br>\n",
    "As the increasing of λ, the model become more flexibility."
   ]
  },
  {
   "cell_type": "markdown",
   "metadata": {},
   "source": [
    "\n",
    "<h3>  Problem #5.Logistic Regression [30 points] </h3> "
   ]
  },
  {
   "cell_type": "markdown",
   "metadata": {},
   "source": [
    "<h4> Problem #5-1. </h4>  <br>\n",
    "We fit a logistic regression model to predict the probability that an individual will default on his/her credit card balance. We used the total balance (single feature) to fit the model and got the results shown in the table below."
   ]
  },
  {
   "cell_type": "markdown",
   "metadata": {},
   "source": [
    "|        |Coefficient| Std.error|Z -statistic|P-Value|\n",
    "|:--:|:-------------------------------:|\n",
    "|Intercept|-10.6513|0.3612|-29.5|<0.0001|\n",
    "|balance|0.0055|0.002|24.9|<0.0001|"
   ]
  },
  {
   "cell_type": "markdown",
   "metadata": {},
   "source": [
    "- What is the parametric model used in logistic regression?\n",
    "- What is the probability that an individual with a balance equal to 15000 dollar will default?\n",
    "- What is the probability that an individual with balance equals to 800 dollar will not default?"
   ]
  },
  {
   "cell_type": "markdown",
   "metadata": {
    "collapsed": true
   },
   "source": [
    "Q1:<br>\n",
    "linear regression<br>\n",
    "Q2:<br>\n",
    "100%<br>\n",
    "Q3:<br>\n",
    "99.8%"
   ]
  },
  {
   "cell_type": "markdown",
   "metadata": {},
   "source": [
    "<h4> Problem #5-2. </h4>  <br>\n",
    "\n",
    "The coefficients of logistic regression are obtained by maximizing the likelihood function\n",
    "\n",
    "\\begin{array} \\\\\n",
    "l(\\beta) = \\prod_{i:y_{i}=1} P(y_{i} = 1|x)\\prod_{i{}':y_{{i}'}=0} (1-P(y_{{i}'} = 1|x))\n",
    "\\end{array}\n",
    "Show that maximizing the\n",
    "likelihood function is equivalent to minimizing the cost function $J(\\beta)$, such that.\n",
    "\\begin{array} \\\\\n",
    "J(\\beta) = -\\sum [y_{i} log(P(y_{i} = 1|x)) + (1- y_{i})log(1- P(y_{i} = 1|x))]\n",
    "\\end{array}\n",
    "\n",
    "\n",
    "Here $n$ is the number training examples. Mention one possible method for obtaining the\n",
    "optimal coefficients."
   ]
  },
  {
   "cell_type": "markdown",
   "metadata": {
    "collapsed": true
   },
   "source": [
    "Answer: Let n be large enough to obtain the optimal coefficients."
   ]
  }
 ],
 "metadata": {
  "kernelspec": {
   "display_name": "Python 3",
   "language": "python",
   "name": "python3"
  },
  "language_info": {
   "codemirror_mode": {
    "name": "ipython",
    "version": 3
   },
   "file_extension": ".py",
   "mimetype": "text/x-python",
   "name": "python",
   "nbconvert_exporter": "python",
   "pygments_lexer": "ipython3",
   "version": "3.6.3"
  }
 },
 "nbformat": 4,
 "nbformat_minor": 2
}
