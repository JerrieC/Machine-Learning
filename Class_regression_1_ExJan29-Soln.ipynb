{
 "cells": [
  {
   "cell_type": "markdown",
   "metadata": {},
   "source": [
    "# Exercise: Linear Regression, Statistical Parameters\n",
    "\n",
    "A) Use the advertising dataset, and fit a linear regression model that estimates the Sales from the TV advertising only (single feature). Find the P-value of the TV feature and the 95% confidence interval of the corresponding coefficients.\n",
    "Does the confidence interval include the value of Zero? What does that imply"
   ]
  },
  {
   "cell_type": "code",
   "execution_count": 1,
   "metadata": {},
   "outputs": [
    {
     "name": "stdout",
     "output_type": "stream",
     "text": [
      "==============================================================================\n",
      "                 coef    std err          t      P>|t|      [0.025      0.975]\n",
      "------------------------------------------------------------------------------\n",
      "Intercept      7.0326      0.458     15.360      0.000       6.130       7.935\n",
      "TV             0.0475      0.003     17.668      0.000       0.042       0.053\n",
      "==============================================================================\n",
      "Intercept    1.406300e-35\n",
      "TV           1.467390e-42\n",
      "dtype: float64\n"
     ]
    }
   ],
   "source": [
    "from pandas import read_csv\n",
    "import statsmodels.formula.api as smf\n",
    "AdvertisingData=read_csv('Advertising.csv')\n",
    "# Complete you code here\n",
    "\n",
    "model=smf.ols('Sales ~ TV', AdvertisingData)\n",
    "Fitting_results=model.fit()\n",
    "print(Fitting_results.summary().tables[1])\n",
    "print(Fitting_results.pvalues)\n"
   ]
  },
  {
   "cell_type": "markdown",
   "metadata": {},
   "source": [
    "B) Use the same 'Advertising' data set, and fit linear regression model that predicts Sales from TV, Radio, and Newspaper advertising using Sklearn linear_model module. What is the coefficients of the three features, and what is the MSE of the fitted model. \n",
    "\n",
    "Use random_state = 0 in train_test_split\n",
    "\n",
    "\n",
    "C) Repeat B when TV and Radio are used, but newspaper is not used in the model. What is the MSE in this case. "
   ]
  },
  {
   "cell_type": "code",
   "execution_count": 5,
   "metadata": {},
   "outputs": [
    {
     "name": "stdout",
     "output_type": "stream",
     "text": [
      "coefficients of features are [ 0.19900368  0.04416235  0.00116268]\n",
      "mean square error with all features 4.01249752292\n"
     ]
    }
   ],
   "source": [
    "#Answer (B)\n",
    "import numpy as np\n",
    "from sklearn.model_selection import train_test_split\n",
    "from sklearn.linear_model import LinearRegression\n",
    "from sklearn.metrics import mean_squared_error\n",
    "\n",
    "AdvertisingData=read_csv('Advertising.csv')\n",
    "X = AdvertisingData[['Radio', 'TV','Newspaper']].values\n",
    "Y = AdvertisingData.Sales\n",
    "\n",
    "X_train, X_test, Y_train, Y_test= train_test_split(X, Y, random_state= 0)\n",
    "linreg= LinearRegression().fit(X_train, Y_train)\n",
    "\n",
    "print('coefficients of features are', linreg.coef_)\n",
    "\n",
    "Target_predicted= linreg.predict(X_test) #given the feature, predict y\n",
    "MSE=mean_squared_error(Y_test,Target_predicted)\n",
    "print('mean square error with all features', MSE)"
   ]
  },
  {
   "cell_type": "code",
   "execution_count": 4,
   "metadata": {},
   "outputs": [
    {
     "name": "stdout",
     "output_type": "stream",
     "text": [
      "mean square error without Newspaper 3.99985266758\n"
     ]
    }
   ],
   "source": [
    "# Answer (C)\n",
    "\n",
    "X = AdvertisingData[['Radio', 'TV']].values\n",
    "Y = AdvertisingData.Sales\n",
    "\n",
    "X_train, X_test, Y_train, Y_test= train_test_split(X, Y, random_state= 0)\n",
    "linreg= LinearRegression().fit(X_train, Y_train)\n",
    "Target_predicted= linreg.predict(X_test) #given the feature, predict y\n",
    "MSE=mean_squared_error(Y_test,Target_predicted)\n",
    "print('mean square error without Newspaper', MSE)"
   ]
  },
  {
   "cell_type": "markdown",
   "metadata": {
    "collapsed": true
   },
   "source": [
    "### Slight increase in the MSE when Newspaper is added to the model. This shows that Newspaper has very low effect in predicting sales."
   ]
  },
  {
   "cell_type": "code",
   "execution_count": null,
   "metadata": {
    "collapsed": true
   },
   "outputs": [],
   "source": []
  }
 ],
 "metadata": {
  "kernelspec": {
   "display_name": "Python 3",
   "language": "python",
   "name": "python3"
  },
  "language_info": {
   "codemirror_mode": {
    "name": "ipython",
    "version": 3
   },
   "file_extension": ".py",
   "mimetype": "text/x-python",
   "name": "python",
   "nbconvert_exporter": "python",
   "pygments_lexer": "ipython3",
   "version": "3.6.3"
  }
 },
 "nbformat": 4,
 "nbformat_minor": 2
}
