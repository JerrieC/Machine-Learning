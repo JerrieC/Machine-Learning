{
 "cells": [
  {
   "cell_type": "markdown",
   "metadata": {},
   "source": [
    "# Exercise: Polynomial Regression and KNN\n"
   ]
  },
  {
   "cell_type": "markdown",
   "metadata": {},
   "source": [
    "A) Use the Auto dataset, find the $R^2$ score of a linear regression model that predicts the miles per gallon (mpg) from the horsepower.\n",
    "\n",
    "Hints:\n",
    "\n",
    "    Create model object using: model=LinearRegression()\n",
    "\n",
    "    Fit the model: fitted_model=model.fit(X_train,Y_train)\n",
    "\n",
    "    Find the R squared metric using: fitted_model.score(X_test,Y_test)\n"
   ]
  },
  {
   "cell_type": "code",
   "execution_count": 3,
   "metadata": {},
   "outputs": [
    {
     "data": {
      "image/png": "[encoded data removed]",
      "text/plain": [
       "<matplotlib.figure.Figure at 0x1a0d3eb390>"
      ]
     },
     "metadata": {},
     "output_type": "display_data"
    }
   ],
   "source": [
    "%matplotlib inline\n",
    "import matplotlib.pyplot as plt\n",
    "from pandas import read_csv\n",
    "from sklearn.linear_model import LinearRegression\n",
    "from sklearn.model_selection import train_test_split\n",
    "import numpy as np\n",
    "\n",
    "AutoData=read_csv('Auto_modify.csv') # read the data\n",
    "\n",
    "X_auto_hp=AutoData.horsepower.values.reshape(-1,1) # define features: horsepower \n",
    "Y_auto_mpg=AutoData.mpg.values.reshape(-1,1) # define label: miles per gallon\n",
    "\n",
    "# ploting the data points\n",
    "plt.figure(figsize=(6,6))\n",
    "plt.scatter(X_auto_hp, Y_auto_mpg, marker = 'o')\n",
    "\n",
    "plt.xlabel('Horsepower (x)')\n",
    "plt.ylabel('Miles per gallon (y)')\n",
    "\n",
    "# Split to train and test\n",
    "X_train, X_test, Y_train, Y_test= train_test_split(X_auto_hp, Y_auto_mpg, random_state= 0)"
   ]
  },
  {
   "cell_type": "code",
   "execution_count": 4,
   "metadata": {},
   "outputs": [
    {
     "name": "stdout",
     "output_type": "stream",
     "text": [
      "R squared is 0.62176588114\n"
     ]
    }
   ],
   "source": [
    "# A\n",
    "model=LinearRegression()\n",
    "fitted_model=model.fit(X_train,Y_train)\n",
    "r_square_A = fitted_model.score(X_test,Y_test)\n",
    "print ('R squared is',r_square_A)"
   ]
  },
  {
   "cell_type": "markdown",
   "metadata": {},
   "source": [
    "B) Use polynomial regression to include both the horsepower feature and $(horsepower)^2$ in the regression model. Find the $R^2$ metric. \n",
    "\n",
    "Hint: You can use [numpy.concatenate](https://docs.scipy.org/doc/numpy-1.13.0/reference/generated/numpy.concatenate.html). For example to add to an array U a column vector $W^2$, we can use X=np.concatenate((U,W**2),axis=1)\n",
    "\n",
    "\n",
    "C) Optional: repeat (B) increase the degree of the polynomial to 3, then 4, then 5 and check the accuracy in each case.\n"
   ]
  },
  {
   "cell_type": "code",
   "execution_count": 6,
   "metadata": {},
   "outputs": [
    {
     "name": "stdout",
     "output_type": "stream",
     "text": [
      "R squared is 0.727103150464\n"
     ]
    }
   ],
   "source": [
    "# B\n",
    "X2 = pow(X_auto_hp,2)\n",
    "X=np.concatenate((X_auto_hp,X2),axis=1)\n",
    "\n",
    "# Split to train and test\n",
    "X_trainB, X_testB, Y_trainB, Y_testB= train_test_split(X, Y_auto_mpg, random_state= 0)\n",
    "modelB=LinearRegression()\n",
    "fitted_modelB=modelB.fit(X_trainB,Y_trainB)\n",
    "r_square_B = fitted_modelB.score(X_testB,Y_testB)\n",
    "print ('R squared is',r_square_B)"
   ]
  },
  {
   "cell_type": "code",
   "execution_count": 53,
   "metadata": {},
   "outputs": [
    {
     "name": "stdout",
     "output_type": "stream",
     "text": [
      "R squared is of 3 polynomial 0.722640633343\n",
      "R squared is of 4 polynomial 0.716289682568\n",
      "R squared is of 5 polynomial 0.709686560629\n"
     ]
    }
   ],
   "source": [
    "# C\n",
    "X3 = pow(X_auto_hp,3)\n",
    "X_auto_3=np.concatenate((X_auto_hp,X3),axis=1)\n",
    "X_trainC3, X_testC3, Y_trainC3, Y_testC3= train_test_split(X_auto_3, Y_auto_mpg, random_state= 0)\n",
    "r_square_C3=fitted_model.score(X_testC3,Y_testC3)\n",
    "modelC3=LinearRegression()\n",
    "fitted_model=modelC3.fit(X_trainC3,Y_trainC3)\n",
    "r_square_C3 = fitted_model.score(X_testC3,Y_testC3)\n",
    "print ('R squared is of 3 polynomial',r_square_C3)\n",
    "\n",
    "X4 = pow(X_auto_hp,4)\n",
    "X_auto_4=np.concatenate((X_auto_hp,X4),axis=1)\n",
    "X_trainC4, X_testC4, Y_trainC4, Y_testC4= train_test_split(X_auto_4, Y_auto_mpg, random_state= 0)\n",
    "r_square_C4=fitted_model.score(X_testC4,Y_testC4)\n",
    "modelC4=LinearRegression()\n",
    "fitted_model=modelC4.fit(X_trainC4,Y_trainC4)\n",
    "r_square_C4 = fitted_model.score(X_testC4,Y_testC4)\n",
    "print ('R squared is of 4 polynomial',r_square_C4)\n",
    "\n",
    "X5 = pow(X_auto_hp,5)\n",
    "X_auto_5=np.concatenate((X_auto_hp,X5),axis=1)\n",
    "X_trainC5, X_testC5, Y_trainC5, Y_testC5= train_test_split(X_auto_5, Y_auto_mpg, random_state= 0)\n",
    "r_square_C5=fitted_model.score(X_testC5,Y_testC5)\n",
    "modelC5=LinearRegression()\n",
    "fitted_model=modelC3.fit(X_trainC5,Y_trainC5)\n",
    "r_square_C5 = fitted_model.score(X_testC5,Y_testC5)\n",
    "print ('R squared is of 5 polynomial',r_square_C5)"
   ]
  },
  {
   "cell_type": "markdown",
   "metadata": {},
   "source": [
    "D) Use KNN regression to predict the miles per gallon(mpg) with K=7, and find $R^2$ metric in the following cases \n",
    "\n",
    "- One feature: Horsepower only\n",
    "\n",
    "- Two features: horsepower and (horsepower)2 \n",
    "\n",
    "Hint: \n",
    "\n",
    "    Create KNN regression object using neighbors.KNeighborsRegressor:\n",
    "\n",
    "    knnRegression = neighbors.KNeighborsRegressor(n_neighbors=7)\n",
    "\n",
    "    Use the .fit and .score methods as before\n",
    "\n",
    "E) COMMENT on your results: which model performs better? How does performance change when adding the quadratic feature?\n"
   ]
  },
  {
   "cell_type": "code",
   "execution_count": 66,
   "metadata": {},
   "outputs": [
    {
     "name": "stdout",
     "output_type": "stream",
     "text": [
      "R squared of one feature KNN is 0.667477744171\n",
      "R squared of one feature KNN is 0.670108404882\n"
     ]
    }
   ],
   "source": [
    "from sklearn import neighbors\n",
    "# D one feature\n",
    "X_trainD1, X_testD1, Y_trainD1, Y_testD1= train_test_split(X_auto_hp, Y_auto_mpg, random_state= 0)\n",
    "\n",
    "knnRegression = neighbors.KNeighborsRegressor(n_neighbors=7)\n",
    "fitted_model=knnRegression.fit(X_trainD1,Y_trainD1)\n",
    "fitted_model.score(X_testD1,Y_testD1)\n",
    "r_square_D1 = fitted_model.score(X_testD1,Y_testD1)\n",
    "print ('R squared of one feature KNN is',r_square_D1)\n",
    "\n",
    "#D two features\n",
    "X2 = pow(X_auto_hp,2)\n",
    "X=np.concatenate((X_auto_hp,X2),axis=1)\n",
    "X_trainD2, X_testD2, Y_trainD2, Y_testD2= train_test_split(X, Y_auto_mpg, random_state= 0)\n",
    "\n",
    "knnRegression = neighbors.KNeighborsRegressor(n_neighbors=7)\n",
    "fitted_model=knnRegression.fit(X_trainD2,Y_trainD2)\n",
    "fitted_model.score(X_testD2,Y_testD2)\n",
    "r_square_D2 = fitted_model.score(X_testD2,Y_testD2)\n",
    "print ('R squared of one feature KNN is',r_square_D2)"
   ]
  },
  {
   "cell_type": "code",
   "execution_count": null,
   "metadata": {
    "collapsed": true
   },
   "outputs": [],
   "source": [
    "# E\n",
    "# For predicting the miles per gallon (mpg) from only horsepower feature, the linear regression model fits better.\n",
    "# After adding the quadratic feature, the KNN model fits better."
   ]
  }
 ],
 "metadata": {
  "kernelspec": {
   "display_name": "Python 3",
   "language": "python",
   "name": "python3"
  },
  "language_info": {
   "codemirror_mode": {
    "name": "ipython",
    "version": 3
   },
   "file_extension": ".py",
   "mimetype": "text/x-python",
   "name": "python",
   "nbconvert_exporter": "python",
   "pygments_lexer": "ipython3",
   "version": "3.6.3"
  }
 },
 "nbformat": 4,
 "nbformat_minor": 2
}
