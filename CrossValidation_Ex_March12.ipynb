{
 "cells": [
  {
   "cell_type": "markdown",
   "metadata": {},
   "source": [
    "# CrossValidation_Ex_March12\n",
    "Find the 5-fold cross validation scores for logistic regression (with default regularization, C=1) that classifies \n",
    "the ten classes of the digits data (used in the previous exercise). Comment on your result. What is the average accuracy of the 5 folds?"
   ]
  },
  {
   "cell_type": "code",
   "execution_count": 21,
   "metadata": {
    "collapsed": true
   },
   "outputs": [],
   "source": [
    "name='Jiayu Chen'\n",
    "Pittid='jic117'"
   ]
  },
  {
   "cell_type": "code",
   "execution_count": 12,
   "metadata": {
    "collapsed": true
   },
   "outputs": [],
   "source": [
    "from sklearn.datasets import load_digits\n",
    "from sklearn.model_selection import cross_val_score\n",
    "from sklearn.linear_model import LogisticRegression\n",
    "from sklearn.model_selection import train_test_split\n",
    "import numpy as np"
   ]
  },
  {
   "cell_type": "code",
   "execution_count": 8,
   "metadata": {},
   "outputs": [
    {
     "name": "stdout",
     "output_type": "stream",
     "text": [
      "dict_keys(['data', 'target', 'target_names', 'images', 'DESCR'])\n"
     ]
    }
   ],
   "source": [
    "DigitsData=load_digits()\n",
    "print(DigitsData.keys()) #load the dataset"
   ]
  },
  {
   "cell_type": "code",
   "execution_count": 20,
   "metadata": {},
   "outputs": [
    {
     "name": "stdout",
     "output_type": "stream",
     "text": [
      "5-fold cross validation scores are: [ 0.94525547  0.96678967  0.94464945  0.96254682  0.96212121]\n",
      "average of the 5-fold cross validation score is: 0.956272523489\n"
     ]
    }
   ],
   "source": [
    "# First split into two, one test and another one which includes both (train and validation)\n",
    "X_trainval, X_test, Y_trainval, Y_test = train_test_split(DigitsData.data, DigitsData.target, random_state=0)\n",
    "\n",
    "# train the model\n",
    "logRegModel = LogisticRegression(C=1)\n",
    "# perform cross-validation\n",
    "scores = cross_val_score(logRegModel, X_trainval, Y_trainval, cv=5)\n",
    "\n",
    "print('5-fold cross validation scores are:', scores)\n",
    "# compute mean cross_validation accuracy\n",
    "print('average of the 5-fold cross validation score is:', np.mean(scores))"
   ]
  }
 ],
 "metadata": {
  "kernelspec": {
   "display_name": "Python 3",
   "language": "python",
   "name": "python3"
  },
  "language_info": {
   "codemirror_mode": {
    "name": "ipython",
    "version": 3
   },
   "file_extension": ".py",
   "mimetype": "text/x-python",
   "name": "python",
   "nbconvert_exporter": "python",
   "pygments_lexer": "ipython3",
   "version": "3.6.3"
  }
 },
 "nbformat": 4,
 "nbformat_minor": 2
}
